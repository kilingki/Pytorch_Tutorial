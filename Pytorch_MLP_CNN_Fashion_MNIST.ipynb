{
  "nbformat": 4,
  "nbformat_minor": 0,
  "metadata": {
    "colab": {
      "name": "Pytorch_MLP/CNN_Fashion_MNIST.ipynb",
      "provenance": [],
      "collapsed_sections": [],
      "authorship_tag": "ABX9TyN2fwN/riZfRIYpQ3vYD07Y"
    },
    "kernelspec": {
      "name": "python3",
      "display_name": "Python 3"
    },
    "accelerator": "GPU",
    "widgets": {
      "application/vnd.jupyter.widget-state+json": {
        "871c00ebd66b42508cdc07599c165a87": {
          "model_module": "@jupyter-widgets/controls",
          "model_name": "HBoxModel",
          "state": {
            "_view_name": "HBoxView",
            "_dom_classes": [],
            "_model_name": "HBoxModel",
            "_view_module": "@jupyter-widgets/controls",
            "_model_module_version": "1.5.0",
            "_view_count": null,
            "_view_module_version": "1.5.0",
            "box_style": "",
            "layout": "IPY_MODEL_ebc0e30d2f7a4527827eec6f4abea910",
            "_model_module": "@jupyter-widgets/controls",
            "children": [
              "IPY_MODEL_c18003a6f17048d08ca1f58529f32028",
              "IPY_MODEL_5c2f156766d44178a3d1c9a7455edacc"
            ]
          }
        },
        "ebc0e30d2f7a4527827eec6f4abea910": {
          "model_module": "@jupyter-widgets/base",
          "model_name": "LayoutModel",
          "state": {
            "_view_name": "LayoutView",
            "grid_template_rows": null,
            "right": null,
            "justify_content": null,
            "_view_module": "@jupyter-widgets/base",
            "overflow": null,
            "_model_module_version": "1.2.0",
            "_view_count": null,
            "flex_flow": null,
            "width": null,
            "min_width": null,
            "border": null,
            "align_items": null,
            "bottom": null,
            "_model_module": "@jupyter-widgets/base",
            "top": null,
            "grid_column": null,
            "overflow_y": null,
            "overflow_x": null,
            "grid_auto_flow": null,
            "grid_area": null,
            "grid_template_columns": null,
            "flex": null,
            "_model_name": "LayoutModel",
            "justify_items": null,
            "grid_row": null,
            "max_height": null,
            "align_content": null,
            "visibility": null,
            "align_self": null,
            "height": null,
            "min_height": null,
            "padding": null,
            "grid_auto_rows": null,
            "grid_gap": null,
            "max_width": null,
            "order": null,
            "_view_module_version": "1.2.0",
            "grid_template_areas": null,
            "object_position": null,
            "object_fit": null,
            "grid_auto_columns": null,
            "margin": null,
            "display": null,
            "left": null
          }
        },
        "c18003a6f17048d08ca1f58529f32028": {
          "model_module": "@jupyter-widgets/controls",
          "model_name": "IntProgressModel",
          "state": {
            "_view_name": "ProgressView",
            "style": "IPY_MODEL_dd496ec7f82d47c5b1dd90b04c8d51e8",
            "_dom_classes": [],
            "description": "",
            "_model_name": "IntProgressModel",
            "bar_style": "info",
            "max": 1,
            "_view_module": "@jupyter-widgets/controls",
            "_model_module_version": "1.5.0",
            "value": 1,
            "_view_count": null,
            "_view_module_version": "1.5.0",
            "orientation": "horizontal",
            "min": 0,
            "description_tooltip": null,
            "_model_module": "@jupyter-widgets/controls",
            "layout": "IPY_MODEL_a1efcbdabe8846f2baa08f8093281cb9"
          }
        },
        "5c2f156766d44178a3d1c9a7455edacc": {
          "model_module": "@jupyter-widgets/controls",
          "model_name": "HTMLModel",
          "state": {
            "_view_name": "HTMLView",
            "style": "IPY_MODEL_dcaca0068dab48bab12f2af125d0ccd6",
            "_dom_classes": [],
            "description": "",
            "_model_name": "HTMLModel",
            "placeholder": "​",
            "_view_module": "@jupyter-widgets/controls",
            "_model_module_version": "1.5.0",
            "value": " 26427392/? [00:20&lt;00:00, 9518051.86it/s]",
            "_view_count": null,
            "_view_module_version": "1.5.0",
            "description_tooltip": null,
            "_model_module": "@jupyter-widgets/controls",
            "layout": "IPY_MODEL_892f9223ff15416bb29af6152cacddda"
          }
        },
        "dd496ec7f82d47c5b1dd90b04c8d51e8": {
          "model_module": "@jupyter-widgets/controls",
          "model_name": "ProgressStyleModel",
          "state": {
            "_view_name": "StyleView",
            "_model_name": "ProgressStyleModel",
            "description_width": "initial",
            "_view_module": "@jupyter-widgets/base",
            "_model_module_version": "1.5.0",
            "_view_count": null,
            "_view_module_version": "1.2.0",
            "bar_color": null,
            "_model_module": "@jupyter-widgets/controls"
          }
        },
        "a1efcbdabe8846f2baa08f8093281cb9": {
          "model_module": "@jupyter-widgets/base",
          "model_name": "LayoutModel",
          "state": {
            "_view_name": "LayoutView",
            "grid_template_rows": null,
            "right": null,
            "justify_content": null,
            "_view_module": "@jupyter-widgets/base",
            "overflow": null,
            "_model_module_version": "1.2.0",
            "_view_count": null,
            "flex_flow": null,
            "width": null,
            "min_width": null,
            "border": null,
            "align_items": null,
            "bottom": null,
            "_model_module": "@jupyter-widgets/base",
            "top": null,
            "grid_column": null,
            "overflow_y": null,
            "overflow_x": null,
            "grid_auto_flow": null,
            "grid_area": null,
            "grid_template_columns": null,
            "flex": null,
            "_model_name": "LayoutModel",
            "justify_items": null,
            "grid_row": null,
            "max_height": null,
            "align_content": null,
            "visibility": null,
            "align_self": null,
            "height": null,
            "min_height": null,
            "padding": null,
            "grid_auto_rows": null,
            "grid_gap": null,
            "max_width": null,
            "order": null,
            "_view_module_version": "1.2.0",
            "grid_template_areas": null,
            "object_position": null,
            "object_fit": null,
            "grid_auto_columns": null,
            "margin": null,
            "display": null,
            "left": null
          }
        },
        "dcaca0068dab48bab12f2af125d0ccd6": {
          "model_module": "@jupyter-widgets/controls",
          "model_name": "DescriptionStyleModel",
          "state": {
            "_view_name": "StyleView",
            "_model_name": "DescriptionStyleModel",
            "description_width": "",
            "_view_module": "@jupyter-widgets/base",
            "_model_module_version": "1.5.0",
            "_view_count": null,
            "_view_module_version": "1.2.0",
            "_model_module": "@jupyter-widgets/controls"
          }
        },
        "892f9223ff15416bb29af6152cacddda": {
          "model_module": "@jupyter-widgets/base",
          "model_name": "LayoutModel",
          "state": {
            "_view_name": "LayoutView",
            "grid_template_rows": null,
            "right": null,
            "justify_content": null,
            "_view_module": "@jupyter-widgets/base",
            "overflow": null,
            "_model_module_version": "1.2.0",
            "_view_count": null,
            "flex_flow": null,
            "width": null,
            "min_width": null,
            "border": null,
            "align_items": null,
            "bottom": null,
            "_model_module": "@jupyter-widgets/base",
            "top": null,
            "grid_column": null,
            "overflow_y": null,
            "overflow_x": null,
            "grid_auto_flow": null,
            "grid_area": null,
            "grid_template_columns": null,
            "flex": null,
            "_model_name": "LayoutModel",
            "justify_items": null,
            "grid_row": null,
            "max_height": null,
            "align_content": null,
            "visibility": null,
            "align_self": null,
            "height": null,
            "min_height": null,
            "padding": null,
            "grid_auto_rows": null,
            "grid_gap": null,
            "max_width": null,
            "order": null,
            "_view_module_version": "1.2.0",
            "grid_template_areas": null,
            "object_position": null,
            "object_fit": null,
            "grid_auto_columns": null,
            "margin": null,
            "display": null,
            "left": null
          }
        },
        "8d2a487125b0462b819bc370c5ed2aa2": {
          "model_module": "@jupyter-widgets/controls",
          "model_name": "HBoxModel",
          "state": {
            "_view_name": "HBoxView",
            "_dom_classes": [],
            "_model_name": "HBoxModel",
            "_view_module": "@jupyter-widgets/controls",
            "_model_module_version": "1.5.0",
            "_view_count": null,
            "_view_module_version": "1.5.0",
            "box_style": "",
            "layout": "IPY_MODEL_c4294909783b43c98275054251ca54d4",
            "_model_module": "@jupyter-widgets/controls",
            "children": [
              "IPY_MODEL_c060962deb494e0a89e3c7293e61976d",
              "IPY_MODEL_a8ebd397a4d5457883d5c8e12cfd09ba"
            ]
          }
        },
        "c4294909783b43c98275054251ca54d4": {
          "model_module": "@jupyter-widgets/base",
          "model_name": "LayoutModel",
          "state": {
            "_view_name": "LayoutView",
            "grid_template_rows": null,
            "right": null,
            "justify_content": null,
            "_view_module": "@jupyter-widgets/base",
            "overflow": null,
            "_model_module_version": "1.2.0",
            "_view_count": null,
            "flex_flow": null,
            "width": null,
            "min_width": null,
            "border": null,
            "align_items": null,
            "bottom": null,
            "_model_module": "@jupyter-widgets/base",
            "top": null,
            "grid_column": null,
            "overflow_y": null,
            "overflow_x": null,
            "grid_auto_flow": null,
            "grid_area": null,
            "grid_template_columns": null,
            "flex": null,
            "_model_name": "LayoutModel",
            "justify_items": null,
            "grid_row": null,
            "max_height": null,
            "align_content": null,
            "visibility": null,
            "align_self": null,
            "height": null,
            "min_height": null,
            "padding": null,
            "grid_auto_rows": null,
            "grid_gap": null,
            "max_width": null,
            "order": null,
            "_view_module_version": "1.2.0",
            "grid_template_areas": null,
            "object_position": null,
            "object_fit": null,
            "grid_auto_columns": null,
            "margin": null,
            "display": null,
            "left": null
          }
        },
        "c060962deb494e0a89e3c7293e61976d": {
          "model_module": "@jupyter-widgets/controls",
          "model_name": "IntProgressModel",
          "state": {
            "_view_name": "ProgressView",
            "style": "IPY_MODEL_14459d714e39477fae48a06cdfaf570f",
            "_dom_classes": [],
            "description": "",
            "_model_name": "IntProgressModel",
            "bar_style": "success",
            "max": 1,
            "_view_module": "@jupyter-widgets/controls",
            "_model_module_version": "1.5.0",
            "value": 1,
            "_view_count": null,
            "_view_module_version": "1.5.0",
            "orientation": "horizontal",
            "min": 0,
            "description_tooltip": null,
            "_model_module": "@jupyter-widgets/controls",
            "layout": "IPY_MODEL_29544ab627e84b8aa9f576f202a061c1"
          }
        },
        "a8ebd397a4d5457883d5c8e12cfd09ba": {
          "model_module": "@jupyter-widgets/controls",
          "model_name": "HTMLModel",
          "state": {
            "_view_name": "HTMLView",
            "style": "IPY_MODEL_ff58aab48e71461395fc5c13839e215d",
            "_dom_classes": [],
            "description": "",
            "_model_name": "HTMLModel",
            "placeholder": "​",
            "_view_module": "@jupyter-widgets/controls",
            "_model_module_version": "1.5.0",
            "value": " 32768/? [00:06&lt;00:00, 4943.69it/s]",
            "_view_count": null,
            "_view_module_version": "1.5.0",
            "description_tooltip": null,
            "_model_module": "@jupyter-widgets/controls",
            "layout": "IPY_MODEL_51d801185b1c4d80928f9c4c46f92f71"
          }
        },
        "14459d714e39477fae48a06cdfaf570f": {
          "model_module": "@jupyter-widgets/controls",
          "model_name": "ProgressStyleModel",
          "state": {
            "_view_name": "StyleView",
            "_model_name": "ProgressStyleModel",
            "description_width": "initial",
            "_view_module": "@jupyter-widgets/base",
            "_model_module_version": "1.5.0",
            "_view_count": null,
            "_view_module_version": "1.2.0",
            "bar_color": null,
            "_model_module": "@jupyter-widgets/controls"
          }
        },
        "29544ab627e84b8aa9f576f202a061c1": {
          "model_module": "@jupyter-widgets/base",
          "model_name": "LayoutModel",
          "state": {
            "_view_name": "LayoutView",
            "grid_template_rows": null,
            "right": null,
            "justify_content": null,
            "_view_module": "@jupyter-widgets/base",
            "overflow": null,
            "_model_module_version": "1.2.0",
            "_view_count": null,
            "flex_flow": null,
            "width": null,
            "min_width": null,
            "border": null,
            "align_items": null,
            "bottom": null,
            "_model_module": "@jupyter-widgets/base",
            "top": null,
            "grid_column": null,
            "overflow_y": null,
            "overflow_x": null,
            "grid_auto_flow": null,
            "grid_area": null,
            "grid_template_columns": null,
            "flex": null,
            "_model_name": "LayoutModel",
            "justify_items": null,
            "grid_row": null,
            "max_height": null,
            "align_content": null,
            "visibility": null,
            "align_self": null,
            "height": null,
            "min_height": null,
            "padding": null,
            "grid_auto_rows": null,
            "grid_gap": null,
            "max_width": null,
            "order": null,
            "_view_module_version": "1.2.0",
            "grid_template_areas": null,
            "object_position": null,
            "object_fit": null,
            "grid_auto_columns": null,
            "margin": null,
            "display": null,
            "left": null
          }
        },
        "ff58aab48e71461395fc5c13839e215d": {
          "model_module": "@jupyter-widgets/controls",
          "model_name": "DescriptionStyleModel",
          "state": {
            "_view_name": "StyleView",
            "_model_name": "DescriptionStyleModel",
            "description_width": "",
            "_view_module": "@jupyter-widgets/base",
            "_model_module_version": "1.5.0",
            "_view_count": null,
            "_view_module_version": "1.2.0",
            "_model_module": "@jupyter-widgets/controls"
          }
        },
        "51d801185b1c4d80928f9c4c46f92f71": {
          "model_module": "@jupyter-widgets/base",
          "model_name": "LayoutModel",
          "state": {
            "_view_name": "LayoutView",
            "grid_template_rows": null,
            "right": null,
            "justify_content": null,
            "_view_module": "@jupyter-widgets/base",
            "overflow": null,
            "_model_module_version": "1.2.0",
            "_view_count": null,
            "flex_flow": null,
            "width": null,
            "min_width": null,
            "border": null,
            "align_items": null,
            "bottom": null,
            "_model_module": "@jupyter-widgets/base",
            "top": null,
            "grid_column": null,
            "overflow_y": null,
            "overflow_x": null,
            "grid_auto_flow": null,
            "grid_area": null,
            "grid_template_columns": null,
            "flex": null,
            "_model_name": "LayoutModel",
            "justify_items": null,
            "grid_row": null,
            "max_height": null,
            "align_content": null,
            "visibility": null,
            "align_self": null,
            "height": null,
            "min_height": null,
            "padding": null,
            "grid_auto_rows": null,
            "grid_gap": null,
            "max_width": null,
            "order": null,
            "_view_module_version": "1.2.0",
            "grid_template_areas": null,
            "object_position": null,
            "object_fit": null,
            "grid_auto_columns": null,
            "margin": null,
            "display": null,
            "left": null
          }
        },
        "502f3cb831e94f65bef6783e9ab5a8c8": {
          "model_module": "@jupyter-widgets/controls",
          "model_name": "HBoxModel",
          "state": {
            "_view_name": "HBoxView",
            "_dom_classes": [],
            "_model_name": "HBoxModel",
            "_view_module": "@jupyter-widgets/controls",
            "_model_module_version": "1.5.0",
            "_view_count": null,
            "_view_module_version": "1.5.0",
            "box_style": "",
            "layout": "IPY_MODEL_be520857702d4d9a97078c44a064461a",
            "_model_module": "@jupyter-widgets/controls",
            "children": [
              "IPY_MODEL_e28d7790ba9141d6b0af33906fb153a7",
              "IPY_MODEL_106f96234c2e4570a349b9a5803f02f3"
            ]
          }
        },
        "be520857702d4d9a97078c44a064461a": {
          "model_module": "@jupyter-widgets/base",
          "model_name": "LayoutModel",
          "state": {
            "_view_name": "LayoutView",
            "grid_template_rows": null,
            "right": null,
            "justify_content": null,
            "_view_module": "@jupyter-widgets/base",
            "overflow": null,
            "_model_module_version": "1.2.0",
            "_view_count": null,
            "flex_flow": null,
            "width": null,
            "min_width": null,
            "border": null,
            "align_items": null,
            "bottom": null,
            "_model_module": "@jupyter-widgets/base",
            "top": null,
            "grid_column": null,
            "overflow_y": null,
            "overflow_x": null,
            "grid_auto_flow": null,
            "grid_area": null,
            "grid_template_columns": null,
            "flex": null,
            "_model_name": "LayoutModel",
            "justify_items": null,
            "grid_row": null,
            "max_height": null,
            "align_content": null,
            "visibility": null,
            "align_self": null,
            "height": null,
            "min_height": null,
            "padding": null,
            "grid_auto_rows": null,
            "grid_gap": null,
            "max_width": null,
            "order": null,
            "_view_module_version": "1.2.0",
            "grid_template_areas": null,
            "object_position": null,
            "object_fit": null,
            "grid_auto_columns": null,
            "margin": null,
            "display": null,
            "left": null
          }
        },
        "e28d7790ba9141d6b0af33906fb153a7": {
          "model_module": "@jupyter-widgets/controls",
          "model_name": "IntProgressModel",
          "state": {
            "_view_name": "ProgressView",
            "style": "IPY_MODEL_3d46af1461154ede84649298c3abc5fe",
            "_dom_classes": [],
            "description": "",
            "_model_name": "IntProgressModel",
            "bar_style": "success",
            "max": 1,
            "_view_module": "@jupyter-widgets/controls",
            "_model_module_version": "1.5.0",
            "value": 1,
            "_view_count": null,
            "_view_module_version": "1.5.0",
            "orientation": "horizontal",
            "min": 0,
            "description_tooltip": null,
            "_model_module": "@jupyter-widgets/controls",
            "layout": "IPY_MODEL_db83502b2df84b0b893c8bc9d25f5de6"
          }
        },
        "106f96234c2e4570a349b9a5803f02f3": {
          "model_module": "@jupyter-widgets/controls",
          "model_name": "HTMLModel",
          "state": {
            "_view_name": "HTMLView",
            "style": "IPY_MODEL_cb257b62a8a94b548f81b0bc9a0b85b6",
            "_dom_classes": [],
            "description": "",
            "_model_name": "HTMLModel",
            "placeholder": "​",
            "_view_module": "@jupyter-widgets/controls",
            "_model_module_version": "1.5.0",
            "value": " 4423680/? [00:05&lt;00:00, 797292.99it/s]",
            "_view_count": null,
            "_view_module_version": "1.5.0",
            "description_tooltip": null,
            "_model_module": "@jupyter-widgets/controls",
            "layout": "IPY_MODEL_ac5af6ded8e6403892abf2794d0064b5"
          }
        },
        "3d46af1461154ede84649298c3abc5fe": {
          "model_module": "@jupyter-widgets/controls",
          "model_name": "ProgressStyleModel",
          "state": {
            "_view_name": "StyleView",
            "_model_name": "ProgressStyleModel",
            "description_width": "initial",
            "_view_module": "@jupyter-widgets/base",
            "_model_module_version": "1.5.0",
            "_view_count": null,
            "_view_module_version": "1.2.0",
            "bar_color": null,
            "_model_module": "@jupyter-widgets/controls"
          }
        },
        "db83502b2df84b0b893c8bc9d25f5de6": {
          "model_module": "@jupyter-widgets/base",
          "model_name": "LayoutModel",
          "state": {
            "_view_name": "LayoutView",
            "grid_template_rows": null,
            "right": null,
            "justify_content": null,
            "_view_module": "@jupyter-widgets/base",
            "overflow": null,
            "_model_module_version": "1.2.0",
            "_view_count": null,
            "flex_flow": null,
            "width": null,
            "min_width": null,
            "border": null,
            "align_items": null,
            "bottom": null,
            "_model_module": "@jupyter-widgets/base",
            "top": null,
            "grid_column": null,
            "overflow_y": null,
            "overflow_x": null,
            "grid_auto_flow": null,
            "grid_area": null,
            "grid_template_columns": null,
            "flex": null,
            "_model_name": "LayoutModel",
            "justify_items": null,
            "grid_row": null,
            "max_height": null,
            "align_content": null,
            "visibility": null,
            "align_self": null,
            "height": null,
            "min_height": null,
            "padding": null,
            "grid_auto_rows": null,
            "grid_gap": null,
            "max_width": null,
            "order": null,
            "_view_module_version": "1.2.0",
            "grid_template_areas": null,
            "object_position": null,
            "object_fit": null,
            "grid_auto_columns": null,
            "margin": null,
            "display": null,
            "left": null
          }
        },
        "cb257b62a8a94b548f81b0bc9a0b85b6": {
          "model_module": "@jupyter-widgets/controls",
          "model_name": "DescriptionStyleModel",
          "state": {
            "_view_name": "StyleView",
            "_model_name": "DescriptionStyleModel",
            "description_width": "",
            "_view_module": "@jupyter-widgets/base",
            "_model_module_version": "1.5.0",
            "_view_count": null,
            "_view_module_version": "1.2.0",
            "_model_module": "@jupyter-widgets/controls"
          }
        },
        "ac5af6ded8e6403892abf2794d0064b5": {
          "model_module": "@jupyter-widgets/base",
          "model_name": "LayoutModel",
          "state": {
            "_view_name": "LayoutView",
            "grid_template_rows": null,
            "right": null,
            "justify_content": null,
            "_view_module": "@jupyter-widgets/base",
            "overflow": null,
            "_model_module_version": "1.2.0",
            "_view_count": null,
            "flex_flow": null,
            "width": null,
            "min_width": null,
            "border": null,
            "align_items": null,
            "bottom": null,
            "_model_module": "@jupyter-widgets/base",
            "top": null,
            "grid_column": null,
            "overflow_y": null,
            "overflow_x": null,
            "grid_auto_flow": null,
            "grid_area": null,
            "grid_template_columns": null,
            "flex": null,
            "_model_name": "LayoutModel",
            "justify_items": null,
            "grid_row": null,
            "max_height": null,
            "align_content": null,
            "visibility": null,
            "align_self": null,
            "height": null,
            "min_height": null,
            "padding": null,
            "grid_auto_rows": null,
            "grid_gap": null,
            "max_width": null,
            "order": null,
            "_view_module_version": "1.2.0",
            "grid_template_areas": null,
            "object_position": null,
            "object_fit": null,
            "grid_auto_columns": null,
            "margin": null,
            "display": null,
            "left": null
          }
        },
        "149cb68b877344d185e5ba9994f4ebd3": {
          "model_module": "@jupyter-widgets/controls",
          "model_name": "HBoxModel",
          "state": {
            "_view_name": "HBoxView",
            "_dom_classes": [],
            "_model_name": "HBoxModel",
            "_view_module": "@jupyter-widgets/controls",
            "_model_module_version": "1.5.0",
            "_view_count": null,
            "_view_module_version": "1.5.0",
            "box_style": "",
            "layout": "IPY_MODEL_0e6e02bfa9214c0997d15a11f279e3bc",
            "_model_module": "@jupyter-widgets/controls",
            "children": [
              "IPY_MODEL_56830a8b79324e35af4ba9462dd7129a",
              "IPY_MODEL_b6fd2e878ef94b1ebc0a6f199e20b65a"
            ]
          }
        },
        "0e6e02bfa9214c0997d15a11f279e3bc": {
          "model_module": "@jupyter-widgets/base",
          "model_name": "LayoutModel",
          "state": {
            "_view_name": "LayoutView",
            "grid_template_rows": null,
            "right": null,
            "justify_content": null,
            "_view_module": "@jupyter-widgets/base",
            "overflow": null,
            "_model_module_version": "1.2.0",
            "_view_count": null,
            "flex_flow": null,
            "width": null,
            "min_width": null,
            "border": null,
            "align_items": null,
            "bottom": null,
            "_model_module": "@jupyter-widgets/base",
            "top": null,
            "grid_column": null,
            "overflow_y": null,
            "overflow_x": null,
            "grid_auto_flow": null,
            "grid_area": null,
            "grid_template_columns": null,
            "flex": null,
            "_model_name": "LayoutModel",
            "justify_items": null,
            "grid_row": null,
            "max_height": null,
            "align_content": null,
            "visibility": null,
            "align_self": null,
            "height": null,
            "min_height": null,
            "padding": null,
            "grid_auto_rows": null,
            "grid_gap": null,
            "max_width": null,
            "order": null,
            "_view_module_version": "1.2.0",
            "grid_template_areas": null,
            "object_position": null,
            "object_fit": null,
            "grid_auto_columns": null,
            "margin": null,
            "display": null,
            "left": null
          }
        },
        "56830a8b79324e35af4ba9462dd7129a": {
          "model_module": "@jupyter-widgets/controls",
          "model_name": "IntProgressModel",
          "state": {
            "_view_name": "ProgressView",
            "style": "IPY_MODEL_54abb9f08ae14eb1b3c09af4309db393",
            "_dom_classes": [],
            "description": "",
            "_model_name": "IntProgressModel",
            "bar_style": "success",
            "max": 1,
            "_view_module": "@jupyter-widgets/controls",
            "_model_module_version": "1.5.0",
            "value": 1,
            "_view_count": null,
            "_view_module_version": "1.5.0",
            "orientation": "horizontal",
            "min": 0,
            "description_tooltip": null,
            "_model_module": "@jupyter-widgets/controls",
            "layout": "IPY_MODEL_9920098e47ca40d8806e94263ba2c46a"
          }
        },
        "b6fd2e878ef94b1ebc0a6f199e20b65a": {
          "model_module": "@jupyter-widgets/controls",
          "model_name": "HTMLModel",
          "state": {
            "_view_name": "HTMLView",
            "style": "IPY_MODEL_ef096bf1acc0420dae4b1c51ad9f8092",
            "_dom_classes": [],
            "description": "",
            "_model_name": "HTMLModel",
            "placeholder": "​",
            "_view_module": "@jupyter-widgets/controls",
            "_model_module_version": "1.5.0",
            "value": " 8192/? [00:02&lt;00:00, 3270.62it/s]",
            "_view_count": null,
            "_view_module_version": "1.5.0",
            "description_tooltip": null,
            "_model_module": "@jupyter-widgets/controls",
            "layout": "IPY_MODEL_c3cecd54a88942d5a15a8e7e584e1029"
          }
        },
        "54abb9f08ae14eb1b3c09af4309db393": {
          "model_module": "@jupyter-widgets/controls",
          "model_name": "ProgressStyleModel",
          "state": {
            "_view_name": "StyleView",
            "_model_name": "ProgressStyleModel",
            "description_width": "initial",
            "_view_module": "@jupyter-widgets/base",
            "_model_module_version": "1.5.0",
            "_view_count": null,
            "_view_module_version": "1.2.0",
            "bar_color": null,
            "_model_module": "@jupyter-widgets/controls"
          }
        },
        "9920098e47ca40d8806e94263ba2c46a": {
          "model_module": "@jupyter-widgets/base",
          "model_name": "LayoutModel",
          "state": {
            "_view_name": "LayoutView",
            "grid_template_rows": null,
            "right": null,
            "justify_content": null,
            "_view_module": "@jupyter-widgets/base",
            "overflow": null,
            "_model_module_version": "1.2.0",
            "_view_count": null,
            "flex_flow": null,
            "width": null,
            "min_width": null,
            "border": null,
            "align_items": null,
            "bottom": null,
            "_model_module": "@jupyter-widgets/base",
            "top": null,
            "grid_column": null,
            "overflow_y": null,
            "overflow_x": null,
            "grid_auto_flow": null,
            "grid_area": null,
            "grid_template_columns": null,
            "flex": null,
            "_model_name": "LayoutModel",
            "justify_items": null,
            "grid_row": null,
            "max_height": null,
            "align_content": null,
            "visibility": null,
            "align_self": null,
            "height": null,
            "min_height": null,
            "padding": null,
            "grid_auto_rows": null,
            "grid_gap": null,
            "max_width": null,
            "order": null,
            "_view_module_version": "1.2.0",
            "grid_template_areas": null,
            "object_position": null,
            "object_fit": null,
            "grid_auto_columns": null,
            "margin": null,
            "display": null,
            "left": null
          }
        },
        "ef096bf1acc0420dae4b1c51ad9f8092": {
          "model_module": "@jupyter-widgets/controls",
          "model_name": "DescriptionStyleModel",
          "state": {
            "_view_name": "StyleView",
            "_model_name": "DescriptionStyleModel",
            "description_width": "",
            "_view_module": "@jupyter-widgets/base",
            "_model_module_version": "1.5.0",
            "_view_count": null,
            "_view_module_version": "1.2.0",
            "_model_module": "@jupyter-widgets/controls"
          }
        },
        "c3cecd54a88942d5a15a8e7e584e1029": {
          "model_module": "@jupyter-widgets/base",
          "model_name": "LayoutModel",
          "state": {
            "_view_name": "LayoutView",
            "grid_template_rows": null,
            "right": null,
            "justify_content": null,
            "_view_module": "@jupyter-widgets/base",
            "overflow": null,
            "_model_module_version": "1.2.0",
            "_view_count": null,
            "flex_flow": null,
            "width": null,
            "min_width": null,
            "border": null,
            "align_items": null,
            "bottom": null,
            "_model_module": "@jupyter-widgets/base",
            "top": null,
            "grid_column": null,
            "overflow_y": null,
            "overflow_x": null,
            "grid_auto_flow": null,
            "grid_area": null,
            "grid_template_columns": null,
            "flex": null,
            "_model_name": "LayoutModel",
            "justify_items": null,
            "grid_row": null,
            "max_height": null,
            "align_content": null,
            "visibility": null,
            "align_self": null,
            "height": null,
            "min_height": null,
            "padding": null,
            "grid_auto_rows": null,
            "grid_gap": null,
            "max_width": null,
            "order": null,
            "_view_module_version": "1.2.0",
            "grid_template_areas": null,
            "object_position": null,
            "object_fit": null,
            "grid_auto_columns": null,
            "margin": null,
            "display": null,
            "left": null
          }
        }
      }
    }
  },
  "cells": [
    {
      "cell_type": "code",
      "metadata": {
        "id": "OR6aEk2yC8bI",
        "colab_type": "code",
        "colab": {}
      },
      "source": [
        "import torch\n",
        "import torch.nn as nn\n",
        "import torch.optim as optim\n",
        "import torch.nn.functional as F\n",
        "\n",
        "from torchvision import datasets, transforms, utils\n",
        "from torchsummary import summary\n",
        "\n",
        "import matplotlib.pyplot as plt\n",
        "import numpy as np\n",
        "\n",
        "from google.colab.patches import cv2_imshow \n",
        "\n",
        "device = torch.device(\"cuda\" if torch.cuda.is_available() else \"cpu\")\n",
        "dtype = torch.float32"
      ],
      "execution_count": 0,
      "outputs": []
    },
    {
      "cell_type": "code",
      "metadata": {
        "id": "f-HhwHQyDSKF",
        "colab_type": "code",
        "outputId": "1ee04f24-d865-419c-c544-43a8ac1cc622",
        "colab": {
          "base_uri": "https://localhost:8080/",
          "height": 631,
          "referenced_widgets": [
            "871c00ebd66b42508cdc07599c165a87",
            "ebc0e30d2f7a4527827eec6f4abea910",
            "c18003a6f17048d08ca1f58529f32028",
            "5c2f156766d44178a3d1c9a7455edacc",
            "dd496ec7f82d47c5b1dd90b04c8d51e8",
            "a1efcbdabe8846f2baa08f8093281cb9",
            "dcaca0068dab48bab12f2af125d0ccd6",
            "892f9223ff15416bb29af6152cacddda",
            "8d2a487125b0462b819bc370c5ed2aa2",
            "c4294909783b43c98275054251ca54d4",
            "c060962deb494e0a89e3c7293e61976d",
            "a8ebd397a4d5457883d5c8e12cfd09ba",
            "14459d714e39477fae48a06cdfaf570f",
            "29544ab627e84b8aa9f576f202a061c1",
            "ff58aab48e71461395fc5c13839e215d",
            "51d801185b1c4d80928f9c4c46f92f71",
            "502f3cb831e94f65bef6783e9ab5a8c8",
            "be520857702d4d9a97078c44a064461a",
            "e28d7790ba9141d6b0af33906fb153a7",
            "106f96234c2e4570a349b9a5803f02f3",
            "3d46af1461154ede84649298c3abc5fe",
            "db83502b2df84b0b893c8bc9d25f5de6",
            "cb257b62a8a94b548f81b0bc9a0b85b6",
            "ac5af6ded8e6403892abf2794d0064b5",
            "149cb68b877344d185e5ba9994f4ebd3",
            "0e6e02bfa9214c0997d15a11f279e3bc",
            "56830a8b79324e35af4ba9462dd7129a",
            "b6fd2e878ef94b1ebc0a6f199e20b65a",
            "54abb9f08ae14eb1b3c09af4309db393",
            "9920098e47ca40d8806e94263ba2c46a",
            "ef096bf1acc0420dae4b1c51ad9f8092",
            "c3cecd54a88942d5a15a8e7e584e1029"
          ]
        }
      },
      "source": [
        "# 이미지 픽셀을 Tensor 형으로 바꿔주는 transform 정의\n",
        "transform = transforms.Compose([transforms.ToTensor()])\n",
        "\n",
        "# Fashion MNIST Dataset 가져오기\n",
        "trainset = datasets.FashionMNIST(root = './.data/', train = True, download  = True, transform = transform)\n",
        "testset = datasets.FashionMNIST(root = './.data/', train = False, download  = True, transform = transform)\n",
        "\n",
        "print(trainset, '\\n\\n', testset)\n",
        "batch_size = 16\n",
        "\n",
        "# Dataset의 Data를 다루기 용이한 DataLoadet 정의\n",
        "train_loader = torch.utils.data.DataLoader(dataset = trainset, batch_size  = batch_size)\n",
        "test_loader = torch.utils.data.DataLoader(dataset = testset, batch_size = batch_size)"
      ],
      "execution_count": 0,
      "outputs": [
        {
          "output_type": "stream",
          "text": [
            "Downloading http://fashion-mnist.s3-website.eu-central-1.amazonaws.com/train-images-idx3-ubyte.gz to ./.data/FashionMNIST/raw/train-images-idx3-ubyte.gz\n"
          ],
          "name": "stdout"
        },
        {
          "output_type": "display_data",
          "data": {
            "application/vnd.jupyter.widget-view+json": {
              "model_id": "871c00ebd66b42508cdc07599c165a87",
              "version_minor": 0,
              "version_major": 2
            },
            "text/plain": [
              "HBox(children=(IntProgress(value=1, bar_style='info', max=1), HTML(value='')))"
            ]
          },
          "metadata": {
            "tags": []
          }
        },
        {
          "output_type": "stream",
          "text": [
            "Extracting ./.data/FashionMNIST/raw/train-images-idx3-ubyte.gz to ./.data/FashionMNIST/raw\n",
            "Downloading http://fashion-mnist.s3-website.eu-central-1.amazonaws.com/train-labels-idx1-ubyte.gz to ./.data/FashionMNIST/raw/train-labels-idx1-ubyte.gz\n"
          ],
          "name": "stdout"
        },
        {
          "output_type": "display_data",
          "data": {
            "application/vnd.jupyter.widget-view+json": {
              "model_id": "8d2a487125b0462b819bc370c5ed2aa2",
              "version_minor": 0,
              "version_major": 2
            },
            "text/plain": [
              "HBox(children=(IntProgress(value=1, bar_style='info', max=1), HTML(value='')))"
            ]
          },
          "metadata": {
            "tags": []
          }
        },
        {
          "output_type": "stream",
          "text": [
            "Extracting ./.data/FashionMNIST/raw/train-labels-idx1-ubyte.gz to ./.data/FashionMNIST/raw\n",
            "Downloading http://fashion-mnist.s3-website.eu-central-1.amazonaws.com/t10k-images-idx3-ubyte.gz to ./.data/FashionMNIST/raw/t10k-images-idx3-ubyte.gz\n"
          ],
          "name": "stdout"
        },
        {
          "output_type": "display_data",
          "data": {
            "application/vnd.jupyter.widget-view+json": {
              "model_id": "502f3cb831e94f65bef6783e9ab5a8c8",
              "version_minor": 0,
              "version_major": 2
            },
            "text/plain": [
              "HBox(children=(IntProgress(value=1, bar_style='info', max=1), HTML(value='')))"
            ]
          },
          "metadata": {
            "tags": []
          }
        },
        {
          "output_type": "stream",
          "text": [
            "Extracting ./.data/FashionMNIST/raw/t10k-images-idx3-ubyte.gz to ./.data/FashionMNIST/raw\n",
            "Downloading http://fashion-mnist.s3-website.eu-central-1.amazonaws.com/t10k-labels-idx1-ubyte.gz to ./.data/FashionMNIST/raw/t10k-labels-idx1-ubyte.gz\n"
          ],
          "name": "stdout"
        },
        {
          "output_type": "display_data",
          "data": {
            "application/vnd.jupyter.widget-view+json": {
              "model_id": "149cb68b877344d185e5ba9994f4ebd3",
              "version_minor": 0,
              "version_major": 2
            },
            "text/plain": [
              "HBox(children=(IntProgress(value=1, bar_style='info', max=1), HTML(value='')))"
            ]
          },
          "metadata": {
            "tags": []
          }
        },
        {
          "output_type": "stream",
          "text": [
            "Extracting ./.data/FashionMNIST/raw/t10k-labels-idx1-ubyte.gz to ./.data/FashionMNIST/raw\n",
            "Processing...\n",
            "Done!\n",
            "Dataset FashionMNIST\n",
            "    Number of datapoints: 60000\n",
            "    Root location: ./.data/\n",
            "    Split: Train\n",
            "    StandardTransform\n",
            "Transform: Compose(\n",
            "               ToTensor()\n",
            "           ) \n",
            "\n",
            " Dataset FashionMNIST\n",
            "    Number of datapoints: 10000\n",
            "    Root location: ./.data/\n",
            "    Split: Test\n",
            "    StandardTransform\n",
            "Transform: Compose(\n",
            "               ToTensor()\n",
            "           )\n"
          ],
          "name": "stdout"
        }
      ]
    },
    {
      "cell_type": "code",
      "metadata": {
        "id": "xKH1UACEDSMh",
        "colab_type": "code",
        "outputId": "704da1a1-059d-49b4-96e2-e1fc05b05515",
        "colab": {
          "base_uri": "https://localhost:8080/",
          "height": 532
        }
      },
      "source": [
        "# DataLoader 이용, Data를 Batch 단위로 뽑아오기 위한 iterator 설정\n",
        "dataiter = iter(train_loader)\n",
        "# next : Iterator가 메모리 순서 상 다음 Data를 가져온다\n",
        "images, labels = next(dataiter)\n",
        "\n",
        "# 이미지 출력을 위한 전처리\n",
        "img = utils.make_grid(images, padding=0)\n",
        "npimg = img.numpy()\n",
        "\n",
        "# Matplotlib를 이용한 이미지 출력\n",
        "plt.figure(figsize=(10, 7))\n",
        "plt.imshow(np.transpose(npimg, (1,2,0)))\n",
        "plt.show()\n",
        "\n",
        "# Label과 명칭을 짝지어주는 Dictionary\n",
        "classes = {\n",
        "    0: 'T-shirt/top',\n",
        "    1: 'Trouser',\n",
        "    2: 'Pullover',\n",
        "    3: 'Dress',\n",
        "    4: 'Coat',\n",
        "    5: 'Sandal',\n",
        "    6: 'Shirt',\n",
        "    7: 'Sneaker',\n",
        "    8: 'Bag',\n",
        "    9: 'Ankle boot'\n",
        "}\n",
        "\n",
        "# 출력된 이미지와 맞는 명칭 출력\n",
        "for label in labels:\n",
        "    index = label.item()\n",
        "    print(classes[index])"
      ],
      "execution_count": 0,
      "outputs": [
        {
          "output_type": "stream",
          "text": [
            "\n",
            "\n",
            "\n"
          ],
          "name": "stdout"
        },
        {
          "output_type": "display_data",
          "data": {
            "image/png": "[encoded data removed]",
            "text/plain": [
              "<Figure size 720x504 with 1 Axes>"
            ]
          },
          "metadata": {
            "tags": []
          }
        },
        {
          "output_type": "stream",
          "text": [
            "Ankle boot\n",
            "T-shirt/top\n",
            "T-shirt/top\n",
            "Dress\n",
            "T-shirt/top\n",
            "Pullover\n",
            "Sneaker\n",
            "Pullover\n",
            "Sandal\n",
            "Sandal\n",
            "T-shirt/top\n",
            "Ankle boot\n",
            "Sandal\n",
            "Sandal\n",
            "Sneaker\n",
            "Ankle boot\n"
          ],
          "name": "stdout"
        }
      ]
    },
    {
      "cell_type": "code",
      "metadata": {
        "id": "LgNO5WnBDSQX",
        "colab_type": "code",
        "colab": {}
      },
      "source": [
        "# MLP Model 정의\n",
        "class MLP(torch.nn.Module):\n",
        "  def __init__(self, input_size):\n",
        "    super(MLP, self).__init__()\n",
        "    # MLP 모델 구성을 위한 층 정의\n",
        "    self.linear_1 = torch.nn.Linear(input_size, 256)\n",
        "    self.linear_2 = torch.nn.Linear(256, 64)\n",
        "    self.linear_3 = torch.nn.Linear(64, 10)\n",
        "        \n",
        "  # Feed-forwarding 을 위한 함수 정의\n",
        "  def forward(self, input_tensor):\n",
        "    x = F.relu(self.linear_1(input_tensor.view(-1,784)))\n",
        "    x = self.linear_2(x)\n",
        "    x = self.linear_3(x)\n",
        "    y_pred = F.softmax(x)\n",
        "    return y_pred\n",
        "\n",
        "# CNN Model 정의\n",
        "class CNN(nn.Module):\n",
        "  def __init__(self):\n",
        "    super(CNN, self).__init__()\n",
        "    # CNN 모델 구성을 위한 층 정의\n",
        "    self.conv1 = nn.Conv2d(1, 16, kernel_size=3, padding=1)\n",
        "    self.conv2 = nn.Conv2d(16, 16, kernel_size=3, padding=1)\n",
        "    self.pool = nn.MaxPool2d(2, 2)\n",
        "    self.conv3 = nn.Conv2d(16, 32, kernel_size=3, padding=1)\n",
        "    self.conv4 = nn.Conv2d(32, 32, kernel_size=3, padding=1)\n",
        "    self.linear_1 = nn.Linear(32*7*7, 128)\n",
        "    self.linear_2 = nn.Linear(128, 10)\n",
        "    \n",
        "  # Feed-forwarding 을 위한 함수 정의\n",
        "  def forward(self, x):\n",
        "    x = F.relu(self.conv1(x.view(batch_size, 1, 28, 28)))\n",
        "    x = F.relu(self.conv2(x))\n",
        "    x = self.pool(x)\n",
        "    x = F.relu(self.conv3(x))\n",
        "    x = F.relu(self.conv4(x))\n",
        "    x = self.pool(x)\n",
        "    x = F.relu(self.linear_1(x.view(-1, 32*7*7)))\n",
        "    y_pred = F.softmax(self.linear_2(x))\n",
        "    return y_pred"
      ],
      "execution_count": 0,
      "outputs": []
    },
    {
      "cell_type": "code",
      "metadata": {
        "id": "1urgwu4YmvfB",
        "colab_type": "code",
        "outputId": "94f9ea81-81f2-4daa-ef05-3a8a03ba57da",
        "colab": {
          "base_uri": "https://localhost:8080/",
          "height": 341
        }
      },
      "source": [
        "model_mlp = MLP(784).to(device)\n",
        "optimizer = optim.Adam(model_mlp.parameters())\n",
        "summary(model_mlp, (int(batch_size/2), 1, 28, 28))"
      ],
      "execution_count": 0,
      "outputs": [
        {
          "output_type": "stream",
          "text": [
            "----------------------------------------------------------------\n",
            "        Layer (type)               Output Shape         Param #\n",
            "================================================================\n",
            "            Linear-1                  [-1, 256]         200,960\n",
            "            Linear-2                   [-1, 64]          16,448\n",
            "            Linear-3                   [-1, 10]             650\n",
            "================================================================\n",
            "Total params: 218,058\n",
            "Trainable params: 218,058\n",
            "Non-trainable params: 0\n",
            "----------------------------------------------------------------\n",
            "Input size (MB): 0.02\n",
            "Forward/backward pass size (MB): 0.00\n",
            "Params size (MB): 0.83\n",
            "Estimated Total Size (MB): 0.86\n",
            "----------------------------------------------------------------\n"
          ],
          "name": "stdout"
        },
        {
          "output_type": "stream",
          "text": [
            "/usr/local/lib/python3.6/dist-packages/ipykernel_launcher.py:14: UserWarning: Implicit dimension choice for softmax has been deprecated. Change the call to include dim=X as an argument.\n",
            "  \n"
          ],
          "name": "stderr"
        }
      ]
    },
    {
      "cell_type": "code",
      "metadata": {
        "id": "SspoAXJEfPSR",
        "colab_type": "code",
        "outputId": "1b4c3170-e299-4683-eb0b-df32b33312db",
        "colab": {
          "base_uri": "https://localhost:8080/",
          "height": 413
        }
      },
      "source": [
        "model_cnn = CNN().to(device)\n",
        "optimizer = optim.Adam(model_cnn.parameters())\n",
        "summary(model_cnn, (int(batch_size/2), 1, 28, 28))"
      ],
      "execution_count": 0,
      "outputs": [
        {
          "output_type": "stream",
          "text": [
            "----------------------------------------------------------------\n",
            "        Layer (type)               Output Shape         Param #\n",
            "================================================================\n",
            "            Conv2d-1           [-1, 16, 28, 28]             160\n",
            "            Conv2d-2           [-1, 16, 28, 28]           2,320\n",
            "         MaxPool2d-3           [-1, 16, 14, 14]               0\n",
            "            Conv2d-4           [-1, 32, 14, 14]           4,640\n",
            "            Conv2d-5           [-1, 32, 14, 14]           9,248\n",
            "         MaxPool2d-6             [-1, 32, 7, 7]               0\n",
            "            Linear-7                  [-1, 128]         200,832\n",
            "            Linear-8                   [-1, 10]           1,290\n",
            "================================================================\n",
            "Total params: 218,490\n",
            "Trainable params: 218,490\n",
            "Non-trainable params: 0\n",
            "----------------------------------------------------------------\n",
            "Input size (MB): 0.02\n",
            "Forward/backward pass size (MB): 0.32\n",
            "Params size (MB): 0.83\n",
            "Estimated Total Size (MB): 1.18\n",
            "----------------------------------------------------------------\n"
          ],
          "name": "stdout"
        },
        {
          "output_type": "stream",
          "text": [
            "/usr/local/lib/python3.6/dist-packages/ipykernel_launcher.py:39: UserWarning: Implicit dimension choice for softmax has been deprecated. Change the call to include dim=X as an argument.\n"
          ],
          "name": "stderr"
        }
      ]
    },
    {
      "cell_type": "code",
      "metadata": {
        "id": "rICqCoHKhI4S",
        "colab_type": "code",
        "colab": {}
      },
      "source": [
        "#model = model_mlp\n",
        "model = model_cnn"
      ],
      "execution_count": 0,
      "outputs": []
    },
    {
      "cell_type": "code",
      "metadata": {
        "id": "K5kueqNADSTC",
        "colab_type": "code",
        "colab": {}
      },
      "source": [
        "# 학습 함수 정의\n",
        "def train(model, train_loader, optimizer, epoch):\n",
        "  # train() / eval() : train 모드일 경우 Gradient 자동계산, eval 모드일 경우 계산 X\n",
        "  model.train()\n",
        "\n",
        "  # Batch 당 학습을 위한 반복문\n",
        "  for batch_idx, (data, label) in enumerate(train_loader):\n",
        "    \n",
        "    data, label = data.to(device), label.to(device) # Data를 GPU로 보낸다\n",
        "\n",
        "    optimizer.zero_grad() # Gradient 계산 초기화\n",
        "    output = model(data) # Feed-forward\n",
        "    loss = F.cross_entropy(output, label) # Loss 계산\n",
        "\n",
        "    loss.backward()\n",
        "    optimizer.step() # Back propagation 및 가중치 Update\n",
        "\n",
        "    if batch_idx % 1000 == 0: # 학습 시 출력문\n",
        "      print('Train Epoch: {} [{}/{} ({:.0f}%)]\\tLoss: {:.6f}'\n",
        "            .format(epoch, batch_idx * len(data), len(train_loader.dataset),\n",
        "                    100. * batch_idx / len(train_loader), loss.item()\n",
        "                    )\n",
        "            )"
      ],
      "execution_count": 0,
      "outputs": []
    },
    {
      "cell_type": "code",
      "metadata": {
        "id": "fuxRjzS9DSU-",
        "colab_type": "code",
        "colab": {}
      },
      "source": [
        "# 학습 후 모델 사용시\n",
        "def evaluate(model, test_loader):\n",
        "\n",
        "  model.eval() # eval mode : Dropout 자동 제거\n",
        "  test_loss = 0 # Total Loss 계산을 위한 누적값 초기화\n",
        "  correct = 0 # Accuracy 계산을 위한 누적값 초기화\n",
        "\n",
        "  with torch.no_grad(): # Gradient 계산이 없음을 의미\n",
        "    for data, label in test_loader:\n",
        "      data, label = data.to(device), label.to(device)\n",
        "      output = model(data)\n",
        "\n",
        "      # 배치 오차를 합산\n",
        "      test_loss += F.cross_entropy(output, label,\n",
        "                                    reduction='sum').item()\n",
        "\n",
        "      # 가장 높은 값을 가진 인덱스가 바로 예측값\n",
        "      # Tensor.max(1, keepdim=True)[1] / 1 : 최댓값을 찾을 차원 정의 / keepdim=True : Input 차원 유지\n",
        "      pred = output.max(1, keepdim=True)[1]\n",
        "\n",
        "      # label.view_as(pred) : pred와 label의 차원 맞추기\n",
        "      # pred.eq(label.view_as(pred)) : pred와 label이 동일할 경우 True, 아니면 False 값을 갖는 리스트 반환\n",
        "      # pred.eq(label.view_as(pred)).sum() : 반환된 리스트의 값을 전부 더한다\n",
        "      # pred.eq(label.view_as(pred)).sum().item() : Tensor형 값에서 int형의 값만 따온다\n",
        "      correct += pred.eq(label.view_as(pred)).sum().item()\n",
        "\n",
        "  # Loss, Accuracy 계산 후 반환\n",
        "  test_loss /= len(test_loader.dataset)\n",
        "  test_accuracy = 100. * correct / len(test_loader.dataset)\n",
        "  return test_loss, test_accuracy"
      ],
      "execution_count": 0,
      "outputs": []
    },
    {
      "cell_type": "code",
      "metadata": {
        "id": "GaBC-rUwlLyM",
        "colab_type": "code",
        "outputId": "75b5f500-3540-4314-f1a3-a3608e6af5bd",
        "colab": {
          "base_uri": "https://localhost:8080/",
          "height": 395
        }
      },
      "source": [
        "a = torch.Tensor([[[1,2,3,4],[5,6,7,8]]])\n",
        "b = torch.Tensor([[1,2,3,4],[5,6,7,8]])\n",
        "print(a.shape)\n",
        "print(b.shape, '\\n')\n",
        "\n",
        "print(a.max(2), '\\n')\n",
        "print(a.max(1), '\\n')\n",
        "\n",
        "print(a.max(1, keepdim=True), '\\n')\n",
        "\n",
        "print(b.view_as(a))\n",
        "print(a.eq(b.view_as(a)))\n",
        "print(a.eq(b.view_as(a)).sum())\n",
        "print(a.eq(b.view_as(a)).sum().item())"
      ],
      "execution_count": 0,
      "outputs": [
        {
          "output_type": "stream",
          "text": [
            "torch.Size([1, 2, 4])\n",
            "torch.Size([2, 4]) \n",
            "\n",
            "torch.return_types.max(\n",
            "values=tensor([[4., 8.]]),\n",
            "indices=tensor([[3, 3]])) \n",
            "\n",
            "torch.return_types.max(\n",
            "values=tensor([[5., 6., 7., 8.]]),\n",
            "indices=tensor([[1, 1, 1, 1]])) \n",
            "\n",
            "torch.return_types.max(\n",
            "values=tensor([[[5., 6., 7., 8.]]]),\n",
            "indices=tensor([[[1, 1, 1, 1]]])) \n",
            "\n",
            "tensor([[[1., 2., 3., 4.],\n",
            "         [5., 6., 7., 8.]]])\n",
            "tensor([[[True, True, True, True],\n",
            "         [True, True, True, True]]])\n",
            "tensor(8)\n",
            "8\n"
          ],
          "name": "stdout"
        }
      ]
    },
    {
      "cell_type": "code",
      "metadata": {
        "id": "HyT92QChDSWn",
        "colab_type": "code",
        "outputId": "0189426b-0146-41c5-f25c-5e6716adf3d7",
        "colab": {
          "base_uri": "https://localhost:8080/",
          "height": 935
        }
      },
      "source": [
        "epochs = 10\n",
        "# Epoch을 위한 반복문\n",
        "for epoch in range(1, epochs + 1):\n",
        "    train(model, train_loader, optimizer, epoch) # 학습\n",
        "    test_loss, test_accuracy = evaluate(model, test_loader) # 평가 (Test == Val)\n",
        "    \n",
        "    print('[{}] Test Loss: {:.4f}, Accuracy: {:.2f}%'.format(\n",
        "          epoch, test_loss, test_accuracy))"
      ],
      "execution_count": 0,
      "outputs": [
        {
          "output_type": "stream",
          "text": [
            "/usr/local/lib/python3.6/dist-packages/ipykernel_launcher.py:39: UserWarning: Implicit dimension choice for softmax has been deprecated. Change the call to include dim=X as an argument.\n"
          ],
          "name": "stderr"
        },
        {
          "output_type": "stream",
          "text": [
            "Train Epoch: 1 [0/60000 (0%)]\tLoss: 2.305444\n",
            "Train Epoch: 1 [16000/60000 (27%)]\tLoss: 1.880257\n",
            "Train Epoch: 1 [32000/60000 (53%)]\tLoss: 1.712718\n",
            "Train Epoch: 1 [48000/60000 (80%)]\tLoss: 1.587356\n",
            "[1] Test Loss: 1.6534, Accuracy: 80.73%\n",
            "Train Epoch: 2 [0/60000 (0%)]\tLoss: 1.632532\n",
            "Train Epoch: 2 [16000/60000 (27%)]\tLoss: 1.648485\n",
            "Train Epoch: 2 [32000/60000 (53%)]\tLoss: 1.711176\n",
            "Train Epoch: 2 [48000/60000 (80%)]\tLoss: 1.584965\n",
            "[2] Test Loss: 1.6608, Accuracy: 80.01%\n",
            "Train Epoch: 3 [0/60000 (0%)]\tLoss: 1.649202\n",
            "Train Epoch: 3 [16000/60000 (27%)]\tLoss: 1.586201\n",
            "Train Epoch: 3 [32000/60000 (53%)]\tLoss: 1.648803\n",
            "Train Epoch: 3 [48000/60000 (80%)]\tLoss: 1.538500\n",
            "[3] Test Loss: 1.6472, Accuracy: 81.28%\n",
            "Train Epoch: 4 [0/60000 (0%)]\tLoss: 1.648610\n",
            "Train Epoch: 4 [16000/60000 (27%)]\tLoss: 1.648684\n",
            "Train Epoch: 4 [32000/60000 (53%)]\tLoss: 1.763712\n",
            "Train Epoch: 4 [48000/60000 (80%)]\tLoss: 1.586132\n",
            "[4] Test Loss: 1.6188, Accuracy: 84.17%\n",
            "Train Epoch: 5 [0/60000 (0%)]\tLoss: 1.711150\n",
            "Train Epoch: 5 [16000/60000 (27%)]\tLoss: 1.586115\n",
            "Train Epoch: 5 [32000/60000 (53%)]\tLoss: 1.713573\n",
            "Train Epoch: 5 [48000/60000 (80%)]\tLoss: 1.642750\n",
            "[5] Test Loss: 1.6363, Accuracy: 82.50%\n",
            "Train Epoch: 6 [0/60000 (0%)]\tLoss: 1.708366\n",
            "Train Epoch: 6 [16000/60000 (27%)]\tLoss: 1.647508\n",
            "Train Epoch: 6 [32000/60000 (53%)]\tLoss: 1.709328\n",
            "Train Epoch: 6 [48000/60000 (80%)]\tLoss: 1.523651\n",
            "[6] Test Loss: 1.5989, Accuracy: 86.18%\n",
            "Train Epoch: 7 [0/60000 (0%)]\tLoss: 1.648380\n",
            "Train Epoch: 7 [16000/60000 (27%)]\tLoss: 1.586150\n",
            "Train Epoch: 7 [32000/60000 (53%)]\tLoss: 1.711143\n",
            "Train Epoch: 7 [48000/60000 (80%)]\tLoss: 1.584446\n",
            "[7] Test Loss: 1.6023, Accuracy: 85.86%\n",
            "Train Epoch: 8 [0/60000 (0%)]\tLoss: 1.586150\n",
            "Train Epoch: 8 [16000/60000 (27%)]\tLoss: 1.586230\n",
            "Train Epoch: 8 [32000/60000 (53%)]\tLoss: 1.713483\n",
            "Train Epoch: 8 [48000/60000 (80%)]\tLoss: 1.559944\n",
            "[8] Test Loss: 1.5916, Accuracy: 86.96%\n",
            "Train Epoch: 9 [0/60000 (0%)]\tLoss: 1.648651\n",
            "Train Epoch: 9 [16000/60000 (27%)]\tLoss: 1.586150\n",
            "Train Epoch: 9 [32000/60000 (53%)]\tLoss: 1.898545\n",
            "Train Epoch: 9 [48000/60000 (80%)]\tLoss: 1.523993\n",
            "[9] Test Loss: 1.6096, Accuracy: 85.13%\n",
            "Train Epoch: 10 [0/60000 (0%)]\tLoss: 1.526908\n",
            "Train Epoch: 10 [16000/60000 (27%)]\tLoss: 1.648444\n",
            "Train Epoch: 10 [32000/60000 (53%)]\tLoss: 1.767816\n",
            "Train Epoch: 10 [48000/60000 (80%)]\tLoss: 1.586151\n",
            "[10] Test Loss: 1.5921, Accuracy: 86.88%\n"
          ],
          "name": "stdout"
        }
      ]
    },
    {
      "cell_type": "code",
      "metadata": {
        "id": "PDBSzAGz_NkD",
        "colab_type": "code",
        "outputId": "7d91d53d-9725-4dc4-d29f-bbe2c0bb111c",
        "colab": {
          "base_uri": "https://localhost:8080/",
          "height": 807
        }
      },
      "source": [
        "# 위의 train의 경우와 동일\n",
        "dataiter = iter(test_loader)\n",
        "images, labels = next(dataiter)\n",
        "\n",
        "# images(CPU, Tensor) -> images(GPU, Tensor) -> output(GPU, Tensor) -> output(CPU, Tensor) -> Gradient 계산 제거 -> output(CPU, ndarray)\n",
        "output = model(images.to(device)).to('cpu').detach().numpy()\n",
        "\n",
        "for i in range(batch_size):\n",
        "  # images[i](GPU, Tensor) -> images[i](CPU, Tensor) -> Gradient 계산 제거 -> 1인 차원 제거 -> images[i](CPU, ndarray)\n",
        "  cv2_imshow(255*images[i].to('cpu').detach().squeeze().numpy())\n",
        "\n",
        "  # output[i](list (shape:(10,)) -> 값이 최대인 index (int) -> index에 해당하는 옷 종류 (string)\n",
        "  print(classes[np.argmax(output[i])])\n",
        "\n",
        "  if np.argmax(output[i]) != labels[i]:\n",
        "    print(\"WRONG PREDICTION\")"
      ],
      "execution_count": 0,
      "outputs": [
        {
          "output_type": "stream",
          "text": [
            "/usr/local/lib/python3.6/dist-packages/ipykernel_launcher.py:39: UserWarning: Implicit dimension choice for softmax has been deprecated. Change the call to include dim=X as an argument.\n"
          ],
          "name": "stderr"
        },
        {
          "output_type": "display_data",
          "data": {
            "image/png": "[encoded data removed]",
            "text/plain": [
              "<PIL.Image.Image image mode=L size=28x28 at 0x7F69FB93C470>"
            ]
          },
          "metadata": {
            "tags": []
          }
        },
        {
          "output_type": "stream",
          "text": [
            "Ankle boot\n"
          ],
          "name": "stdout"
        },
        {
          "output_type": "display_data",
          "data": {
            "image/png": "[encoded data removed]",
            "text/plain": [
              "<PIL.Image.Image image mode=L size=28x28 at 0x7F69FB93C2E8>"
            ]
          },
          "metadata": {
            "tags": []
          }
        },
        {
          "output_type": "stream",
          "text": [
            "Pullover\n"
          ],
          "name": "stdout"
        },
        {
          "output_type": "display_data",
          "data": {
            "image/png": "[encoded data removed]",
            "text/plain": [
              "<PIL.Image.Image image mode=L size=28x28 at 0x7F69FB93C470>"
            ]
          },
          "metadata": {
            "tags": []
          }
        },
        {
          "output_type": "stream",
          "text": [
            "Trouser\n"
          ],
          "name": "stdout"
        },
        {
          "output_type": "display_data",
          "data": {
            "image/png": "[encoded data removed]",
            "text/plain": [
              "<PIL.Image.Image image mode=L size=28x28 at 0x7F69FB93C2E8>"
            ]
          },
          "metadata": {
            "tags": []
          }
        },
        {
          "output_type": "stream",
          "text": [
            "Trouser\n"
          ],
          "name": "stdout"
        },
        {
          "output_type": "display_data",
          "data": {
            "image/png": "[encoded data removed]",
            "text/plain": [
              "<PIL.Image.Image image mode=L size=28x28 at 0x7F69FB93C470>"
            ]
          },
          "metadata": {
            "tags": []
          }
        },
        {
          "output_type": "stream",
          "text": [
            "Shirt\n"
          ],
          "name": "stdout"
        },
        {
          "output_type": "display_data",
          "data": {
            "image/png": "[encoded data removed]",
            "text/plain": [
              "<PIL.Image.Image image mode=L size=28x28 at 0x7F69FB93C2E8>"
            ]
          },
          "metadata": {
            "tags": []
          }
        },
        {
          "output_type": "stream",
          "text": [
            "Trouser\n"
          ],
          "name": "stdout"
        },
        {
          "output_type": "display_data",
          "data": {
            "image/png": "[encoded data removed]",
            "text/plain": [
              "<PIL.Image.Image image mode=L size=28x28 at 0x7F69FB93C470>"
            ]
          },
          "metadata": {
            "tags": []
          }
        },
        {
          "output_type": "stream",
          "text": [
            "Pullover\n",
            "WRONG PREDICTION\n"
          ],
          "name": "stdout"
        },
        {
          "output_type": "display_data",
          "data": {
            "image/png": "[encoded data removed]",
            "text/plain": [
              "<PIL.Image.Image image mode=L size=28x28 at 0x7F69FB93C2E8>"
            ]
          },
          "metadata": {
            "tags": []
          }
        },
        {
          "output_type": "stream",
          "text": [
            "Shirt\n"
          ],
          "name": "stdout"
        },
        {
          "output_type": "display_data",
          "data": {
            "image/png": "[encoded data removed]",
            "text/plain": [
              "<PIL.Image.Image image mode=L size=28x28 at 0x7F69FB93C470>"
            ]
          },
          "metadata": {
            "tags": []
          }
        },
        {
          "output_type": "stream",
          "text": [
            "Sandal\n"
          ],
          "name": "stdout"
        },
        {
          "output_type": "display_data",
          "data": {
            "image/png": "[encoded data removed]",
            "text/plain": [
              "<PIL.Image.Image image mode=L size=28x28 at 0x7F69FB93C2E8>"
            ]
          },
          "metadata": {
            "tags": []
          }
        },
        {
          "output_type": "stream",
          "text": [
            "Sneaker\n"
          ],
          "name": "stdout"
        },
        {
          "output_type": "display_data",
          "data": {
            "image/png": "[encoded data removed]",
            "text/plain": [
              "<PIL.Image.Image image mode=L size=28x28 at 0x7F69FB93C470>"
            ]
          },
          "metadata": {
            "tags": []
          }
        },
        {
          "output_type": "stream",
          "text": [
            "Coat\n"
          ],
          "name": "stdout"
        },
        {
          "output_type": "display_data",
          "data": {
            "image/png": "[encoded data removed]",
            "text/plain": [
              "<PIL.Image.Image image mode=L size=28x28 at 0x7F69FB93C2E8>"
            ]
          },
          "metadata": {
            "tags": []
          }
        },
        {
          "output_type": "stream",
          "text": [
            "Sandal\n"
          ],
          "name": "stdout"
        },
        {
          "output_type": "display_data",
          "data": {
            "image/png": "[encoded data removed]",
            "text/plain": [
              "<PIL.Image.Image image mode=L size=28x28 at 0x7F69FB93C470>"
            ]
          },
          "metadata": {
            "tags": []
          }
        },
        {
          "output_type": "stream",
          "text": [
            "Sandal\n",
            "WRONG PREDICTION\n"
          ],
          "name": "stdout"
        },
        {
          "output_type": "display_data",
          "data": {
            "image/png": "[encoded data removed]",
            "text/plain": [
              "<PIL.Image.Image image mode=L size=28x28 at 0x7F69FB93C2E8>"
            ]
          },
          "metadata": {
            "tags": []
          }
        },
        {
          "output_type": "stream",
          "text": [
            "Dress\n"
          ],
          "name": "stdout"
        },
        {
          "output_type": "display_data",
          "data": {
            "image/png": "[encoded data removed]",
            "text/plain": [
              "<PIL.Image.Image image mode=L size=28x28 at 0x7F69FB93C470>"
            ]
          },
          "metadata": {
            "tags": []
          }
        },
        {
          "output_type": "stream",
          "text": [
            "Coat\n"
          ],
          "name": "stdout"
        },
        {
          "output_type": "display_data",
          "data": {
            "image/png": "[encoded data removed]",
            "text/plain": [
              "<PIL.Image.Image image mode=L size=28x28 at 0x7F69FB93C2E8>"
            ]
          },
          "metadata": {
            "tags": []
          }
        },
        {
          "output_type": "stream",
          "text": [
            "Trouser\n"
          ],
          "name": "stdout"
        }
      ]
    },
    {
      "cell_type": "code",
      "metadata": {
        "id": "rra9gQXyOK1X",
        "colab_type": "code",
        "outputId": "b6ef0378-1306-4c9f-f3af-d34c37e7f9a5",
        "colab": {
          "base_uri": "https://localhost:8080/",
          "height": 127
        }
      },
      "source": [
        "# 본인의 구글 드라이브 → 지금 실행중인 코드\n",
        "\n",
        "# google.colab.drive : 구글 드라이브에서 파일을 가져오기 위한 코드를 담고 있다.\n",
        "from google.colab import drive\n",
        "\n",
        "# 본인의 구글 드라이브를 '/gdrive' 라는 경로로 하여 쓸 수 있다.\n",
        "drive.mount('/gdrive', force_remount=True)"
      ],
      "execution_count": 0,
      "outputs": [
        {
          "output_type": "stream",
          "text": [
            "Go to this URL in a browser: https://accounts.google.com/o/oauth2/auth?client_id=947318989803-6bn6qk8qdgf4n4g3pfee6491hc0brc4i.apps.googleusercontent.com&redirect_uri=urn%3aietf%3awg%3aoauth%3a2.0%3aoob&response_type=code&scope=email%20https%3a%2f%2fwww.googleapis.com%2fauth%2fdocs.test%20https%3a%2f%2fwww.googleapis.com%2fauth%2fdrive%20https%3a%2f%2fwww.googleapis.com%2fauth%2fdrive.photos.readonly%20https%3a%2f%2fwww.googleapis.com%2fauth%2fpeopleapi.readonly\n",
            "\n",
            "Enter your authorization code:\n",
            "··········\n",
            "Mounted at /gdrive\n"
          ],
          "name": "stdout"
        }
      ]
    },
    {
      "cell_type": "code",
      "metadata": {
        "id": "DMyys7qlOTx7",
        "colab_type": "code",
        "outputId": "222c8460-7360-4fd2-c85b-63b94aac61c9",
        "colab": {
          "base_uri": "https://localhost:8080/",
          "height": 107
        }
      },
      "source": [
        "# 모델은 pt 파일 형태로 저장됩니다\n",
        "torch.save(model.state_dict(), '/gdrive/My Drive/FashionMNIST_MLP.pt')\n",
        "\n",
        "# 모델을 불러오기 위해 지워줍니다\n",
        "del model\n",
        "\n",
        "model = MLP(784).to(device)\n",
        "model.load_state_dict(torch.load('/gdrive/My Drive/FashionMNIST_MLP.pt'))\n",
        "model.to(device)"
      ],
      "execution_count": 0,
      "outputs": [
        {
          "output_type": "execute_result",
          "data": {
            "text/plain": [
              "MLP(\n",
              "  (linear_1): Linear(in_features=784, out_features=256, bias=True)\n",
              "  (linear_2): Linear(in_features=256, out_features=64, bias=True)\n",
              "  (linear_3): Linear(in_features=64, out_features=10, bias=True)\n",
              ")"
            ]
          },
          "metadata": {
            "tags": []
          },
          "execution_count": 86
        }
      ]
    }
  ]
}