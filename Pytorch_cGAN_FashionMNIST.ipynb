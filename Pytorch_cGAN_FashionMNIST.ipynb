{
  "nbformat": 4,
  "nbformat_minor": 0,
  "metadata": {
    "colab": {
      "name": "Pytorch_cGAN_FashionMNIST.ipynb",
      "provenance": [],
      "collapsed_sections": [],
      "authorship_tag": "ABX9TyM5m+7eCdchQJaCz1aNhWFn"
    },
    "kernelspec": {
      "name": "python3",
      "display_name": "Python 3"
    },
    "accelerator": "GPU",
    "widgets": {
      "application/vnd.jupyter.widget-state+json": {
        "448f27c4ab3f4826bddbdc7e80a2bc01": {
          "model_module": "@jupyter-widgets/controls",
          "model_name": "HBoxModel",
          "state": {
            "_view_name": "HBoxView",
            "_dom_classes": [],
            "_model_name": "HBoxModel",
            "_view_module": "@jupyter-widgets/controls",
            "_model_module_version": "1.5.0",
            "_view_count": null,
            "_view_module_version": "1.5.0",
            "box_style": "",
            "layout": "IPY_MODEL_8d75ca502b464b2881ac3d8751dd3498",
            "_model_module": "@jupyter-widgets/controls",
            "children": [
              "IPY_MODEL_800d125c23bc42498a5068f9db67adfd",
              "IPY_MODEL_30037a9243dc43d28f7e688b276d61ca"
            ]
          }
        },
        "8d75ca502b464b2881ac3d8751dd3498": {
          "model_module": "@jupyter-widgets/base",
          "model_name": "LayoutModel",
          "state": {
            "_view_name": "LayoutView",
            "grid_template_rows": null,
            "right": null,
            "justify_content": null,
            "_view_module": "@jupyter-widgets/base",
            "overflow": null,
            "_model_module_version": "1.2.0",
            "_view_count": null,
            "flex_flow": null,
            "width": null,
            "min_width": null,
            "border": null,
            "align_items": null,
            "bottom": null,
            "_model_module": "@jupyter-widgets/base",
            "top": null,
            "grid_column": null,
            "overflow_y": null,
            "overflow_x": null,
            "grid_auto_flow": null,
            "grid_area": null,
            "grid_template_columns": null,
            "flex": null,
            "_model_name": "LayoutModel",
            "justify_items": null,
            "grid_row": null,
            "max_height": null,
            "align_content": null,
            "visibility": null,
            "align_self": null,
            "height": null,
            "min_height": null,
            "padding": null,
            "grid_auto_rows": null,
            "grid_gap": null,
            "max_width": null,
            "order": null,
            "_view_module_version": "1.2.0",
            "grid_template_areas": null,
            "object_position": null,
            "object_fit": null,
            "grid_auto_columns": null,
            "margin": null,
            "display": null,
            "left": null
          }
        },
        "800d125c23bc42498a5068f9db67adfd": {
          "model_module": "@jupyter-widgets/controls",
          "model_name": "IntProgressModel",
          "state": {
            "_view_name": "ProgressView",
            "style": "IPY_MODEL_3657d0ab604c4d1181f3a922530f3ad7",
            "_dom_classes": [],
            "description": "",
            "_model_name": "IntProgressModel",
            "bar_style": "info",
            "max": 1,
            "_view_module": "@jupyter-widgets/controls",
            "_model_module_version": "1.5.0",
            "value": 1,
            "_view_count": null,
            "_view_module_version": "1.5.0",
            "orientation": "horizontal",
            "min": 0,
            "description_tooltip": null,
            "_model_module": "@jupyter-widgets/controls",
            "layout": "IPY_MODEL_9948de0675a6414c94bc1d077c1384a3"
          }
        },
        "30037a9243dc43d28f7e688b276d61ca": {
          "model_module": "@jupyter-widgets/controls",
          "model_name": "HTMLModel",
          "state": {
            "_view_name": "HTMLView",
            "style": "IPY_MODEL_0d8ee4ce89be41138d10d27d294416a6",
            "_dom_classes": [],
            "description": "",
            "_model_name": "HTMLModel",
            "placeholder": "​",
            "_view_module": "@jupyter-widgets/controls",
            "_model_module_version": "1.5.0",
            "value": " 26427392/? [00:20&lt;00:00, 9689122.18it/s]",
            "_view_count": null,
            "_view_module_version": "1.5.0",
            "description_tooltip": null,
            "_model_module": "@jupyter-widgets/controls",
            "layout": "IPY_MODEL_fcd26dc5730347f68daf2250a3123bdf"
          }
        },
        "3657d0ab604c4d1181f3a922530f3ad7": {
          "model_module": "@jupyter-widgets/controls",
          "model_name": "ProgressStyleModel",
          "state": {
            "_view_name": "StyleView",
            "_model_name": "ProgressStyleModel",
            "description_width": "initial",
            "_view_module": "@jupyter-widgets/base",
            "_model_module_version": "1.5.0",
            "_view_count": null,
            "_view_module_version": "1.2.0",
            "bar_color": null,
            "_model_module": "@jupyter-widgets/controls"
          }
        },
        "9948de0675a6414c94bc1d077c1384a3": {
          "model_module": "@jupyter-widgets/base",
          "model_name": "LayoutModel",
          "state": {
            "_view_name": "LayoutView",
            "grid_template_rows": null,
            "right": null,
            "justify_content": null,
            "_view_module": "@jupyter-widgets/base",
            "overflow": null,
            "_model_module_version": "1.2.0",
            "_view_count": null,
            "flex_flow": null,
            "width": null,
            "min_width": null,
            "border": null,
            "align_items": null,
            "bottom": null,
            "_model_module": "@jupyter-widgets/base",
            "top": null,
            "grid_column": null,
            "overflow_y": null,
            "overflow_x": null,
            "grid_auto_flow": null,
            "grid_area": null,
            "grid_template_columns": null,
            "flex": null,
            "_model_name": "LayoutModel",
            "justify_items": null,
            "grid_row": null,
            "max_height": null,
            "align_content": null,
            "visibility": null,
            "align_self": null,
            "height": null,
            "min_height": null,
            "padding": null,
            "grid_auto_rows": null,
            "grid_gap": null,
            "max_width": null,
            "order": null,
            "_view_module_version": "1.2.0",
            "grid_template_areas": null,
            "object_position": null,
            "object_fit": null,
            "grid_auto_columns": null,
            "margin": null,
            "display": null,
            "left": null
          }
        },
        "0d8ee4ce89be41138d10d27d294416a6": {
          "model_module": "@jupyter-widgets/controls",
          "model_name": "DescriptionStyleModel",
          "state": {
            "_view_name": "StyleView",
            "_model_name": "DescriptionStyleModel",
            "description_width": "",
            "_view_module": "@jupyter-widgets/base",
            "_model_module_version": "1.5.0",
            "_view_count": null,
            "_view_module_version": "1.2.0",
            "_model_module": "@jupyter-widgets/controls"
          }
        },
        "fcd26dc5730347f68daf2250a3123bdf": {
          "model_module": "@jupyter-widgets/base",
          "model_name": "LayoutModel",
          "state": {
            "_view_name": "LayoutView",
            "grid_template_rows": null,
            "right": null,
            "justify_content": null,
            "_view_module": "@jupyter-widgets/base",
            "overflow": null,
            "_model_module_version": "1.2.0",
            "_view_count": null,
            "flex_flow": null,
            "width": null,
            "min_width": null,
            "border": null,
            "align_items": null,
            "bottom": null,
            "_model_module": "@jupyter-widgets/base",
            "top": null,
            "grid_column": null,
            "overflow_y": null,
            "overflow_x": null,
            "grid_auto_flow": null,
            "grid_area": null,
            "grid_template_columns": null,
            "flex": null,
            "_model_name": "LayoutModel",
            "justify_items": null,
            "grid_row": null,
            "max_height": null,
            "align_content": null,
            "visibility": null,
            "align_self": null,
            "height": null,
            "min_height": null,
            "padding": null,
            "grid_auto_rows": null,
            "grid_gap": null,
            "max_width": null,
            "order": null,
            "_view_module_version": "1.2.0",
            "grid_template_areas": null,
            "object_position": null,
            "object_fit": null,
            "grid_auto_columns": null,
            "margin": null,
            "display": null,
            "left": null
          }
        },
        "b79e8c9a60f846a5b98c54f15adf2c8f": {
          "model_module": "@jupyter-widgets/controls",
          "model_name": "HBoxModel",
          "state": {
            "_view_name": "HBoxView",
            "_dom_classes": [],
            "_model_name": "HBoxModel",
            "_view_module": "@jupyter-widgets/controls",
            "_model_module_version": "1.5.0",
            "_view_count": null,
            "_view_module_version": "1.5.0",
            "box_style": "",
            "layout": "IPY_MODEL_ef0b1fa498d846d688505474ab642833",
            "_model_module": "@jupyter-widgets/controls",
            "children": [
              "IPY_MODEL_2605abcc882e4bda8121a3706ce3fd79",
              "IPY_MODEL_c5e2ce269772463b8dce3dcc6a89b88a"
            ]
          }
        },
        "ef0b1fa498d846d688505474ab642833": {
          "model_module": "@jupyter-widgets/base",
          "model_name": "LayoutModel",
          "state": {
            "_view_name": "LayoutView",
            "grid_template_rows": null,
            "right": null,
            "justify_content": null,
            "_view_module": "@jupyter-widgets/base",
            "overflow": null,
            "_model_module_version": "1.2.0",
            "_view_count": null,
            "flex_flow": null,
            "width": null,
            "min_width": null,
            "border": null,
            "align_items": null,
            "bottom": null,
            "_model_module": "@jupyter-widgets/base",
            "top": null,
            "grid_column": null,
            "overflow_y": null,
            "overflow_x": null,
            "grid_auto_flow": null,
            "grid_area": null,
            "grid_template_columns": null,
            "flex": null,
            "_model_name": "LayoutModel",
            "justify_items": null,
            "grid_row": null,
            "max_height": null,
            "align_content": null,
            "visibility": null,
            "align_self": null,
            "height": null,
            "min_height": null,
            "padding": null,
            "grid_auto_rows": null,
            "grid_gap": null,
            "max_width": null,
            "order": null,
            "_view_module_version": "1.2.0",
            "grid_template_areas": null,
            "object_position": null,
            "object_fit": null,
            "grid_auto_columns": null,
            "margin": null,
            "display": null,
            "left": null
          }
        },
        "2605abcc882e4bda8121a3706ce3fd79": {
          "model_module": "@jupyter-widgets/controls",
          "model_name": "IntProgressModel",
          "state": {
            "_view_name": "ProgressView",
            "style": "IPY_MODEL_5f7d8b7f821d469d926ab9186fb34d8c",
            "_dom_classes": [],
            "description": "",
            "_model_name": "IntProgressModel",
            "bar_style": "info",
            "max": 1,
            "_view_module": "@jupyter-widgets/controls",
            "_model_module_version": "1.5.0",
            "value": 1,
            "_view_count": null,
            "_view_module_version": "1.5.0",
            "orientation": "horizontal",
            "min": 0,
            "description_tooltip": null,
            "_model_module": "@jupyter-widgets/controls",
            "layout": "IPY_MODEL_5bbb458dd0b6432c870a569cbfe0a930"
          }
        },
        "c5e2ce269772463b8dce3dcc6a89b88a": {
          "model_module": "@jupyter-widgets/controls",
          "model_name": "HTMLModel",
          "state": {
            "_view_name": "HTMLView",
            "style": "IPY_MODEL_cd219aacbf8f498e909b6b250ef1388a",
            "_dom_classes": [],
            "description": "",
            "_model_name": "HTMLModel",
            "placeholder": "​",
            "_view_module": "@jupyter-widgets/controls",
            "_model_module_version": "1.5.0",
            "value": " 32768/? [00:17&lt;00:00, 163190.40it/s]",
            "_view_count": null,
            "_view_module_version": "1.5.0",
            "description_tooltip": null,
            "_model_module": "@jupyter-widgets/controls",
            "layout": "IPY_MODEL_3a31df000db54d8aa1da744bbf2224fb"
          }
        },
        "5f7d8b7f821d469d926ab9186fb34d8c": {
          "model_module": "@jupyter-widgets/controls",
          "model_name": "ProgressStyleModel",
          "state": {
            "_view_name": "StyleView",
            "_model_name": "ProgressStyleModel",
            "description_width": "initial",
            "_view_module": "@jupyter-widgets/base",
            "_model_module_version": "1.5.0",
            "_view_count": null,
            "_view_module_version": "1.2.0",
            "bar_color": null,
            "_model_module": "@jupyter-widgets/controls"
          }
        },
        "5bbb458dd0b6432c870a569cbfe0a930": {
          "model_module": "@jupyter-widgets/base",
          "model_name": "LayoutModel",
          "state": {
            "_view_name": "LayoutView",
            "grid_template_rows": null,
            "right": null,
            "justify_content": null,
            "_view_module": "@jupyter-widgets/base",
            "overflow": null,
            "_model_module_version": "1.2.0",
            "_view_count": null,
            "flex_flow": null,
            "width": null,
            "min_width": null,
            "border": null,
            "align_items": null,
            "bottom": null,
            "_model_module": "@jupyter-widgets/base",
            "top": null,
            "grid_column": null,
            "overflow_y": null,
            "overflow_x": null,
            "grid_auto_flow": null,
            "grid_area": null,
            "grid_template_columns": null,
            "flex": null,
            "_model_name": "LayoutModel",
            "justify_items": null,
            "grid_row": null,
            "max_height": null,
            "align_content": null,
            "visibility": null,
            "align_self": null,
            "height": null,
            "min_height": null,
            "padding": null,
            "grid_auto_rows": null,
            "grid_gap": null,
            "max_width": null,
            "order": null,
            "_view_module_version": "1.2.0",
            "grid_template_areas": null,
            "object_position": null,
            "object_fit": null,
            "grid_auto_columns": null,
            "margin": null,
            "display": null,
            "left": null
          }
        },
        "cd219aacbf8f498e909b6b250ef1388a": {
          "model_module": "@jupyter-widgets/controls",
          "model_name": "DescriptionStyleModel",
          "state": {
            "_view_name": "StyleView",
            "_model_name": "DescriptionStyleModel",
            "description_width": "",
            "_view_module": "@jupyter-widgets/base",
            "_model_module_version": "1.5.0",
            "_view_count": null,
            "_view_module_version": "1.2.0",
            "_model_module": "@jupyter-widgets/controls"
          }
        },
        "3a31df000db54d8aa1da744bbf2224fb": {
          "model_module": "@jupyter-widgets/base",
          "model_name": "LayoutModel",
          "state": {
            "_view_name": "LayoutView",
            "grid_template_rows": null,
            "right": null,
            "justify_content": null,
            "_view_module": "@jupyter-widgets/base",
            "overflow": null,
            "_model_module_version": "1.2.0",
            "_view_count": null,
            "flex_flow": null,
            "width": null,
            "min_width": null,
            "border": null,
            "align_items": null,
            "bottom": null,
            "_model_module": "@jupyter-widgets/base",
            "top": null,
            "grid_column": null,
            "overflow_y": null,
            "overflow_x": null,
            "grid_auto_flow": null,
            "grid_area": null,
            "grid_template_columns": null,
            "flex": null,
            "_model_name": "LayoutModel",
            "justify_items": null,
            "grid_row": null,
            "max_height": null,
            "align_content": null,
            "visibility": null,
            "align_self": null,
            "height": null,
            "min_height": null,
            "padding": null,
            "grid_auto_rows": null,
            "grid_gap": null,
            "max_width": null,
            "order": null,
            "_view_module_version": "1.2.0",
            "grid_template_areas": null,
            "object_position": null,
            "object_fit": null,
            "grid_auto_columns": null,
            "margin": null,
            "display": null,
            "left": null
          }
        },
        "8b29f22cf0f249a4a5b5e900bcb9325a": {
          "model_module": "@jupyter-widgets/controls",
          "model_name": "HBoxModel",
          "state": {
            "_view_name": "HBoxView",
            "_dom_classes": [],
            "_model_name": "HBoxModel",
            "_view_module": "@jupyter-widgets/controls",
            "_model_module_version": "1.5.0",
            "_view_count": null,
            "_view_module_version": "1.5.0",
            "box_style": "",
            "layout": "IPY_MODEL_b488d607e5d24ac8befba9edb512cba5",
            "_model_module": "@jupyter-widgets/controls",
            "children": [
              "IPY_MODEL_b6479e14998f47ebbc4e88984c8a89b4",
              "IPY_MODEL_71ec09a09a304c0da8a7eab035f1bf41"
            ]
          }
        },
        "b488d607e5d24ac8befba9edb512cba5": {
          "model_module": "@jupyter-widgets/base",
          "model_name": "LayoutModel",
          "state": {
            "_view_name": "LayoutView",
            "grid_template_rows": null,
            "right": null,
            "justify_content": null,
            "_view_module": "@jupyter-widgets/base",
            "overflow": null,
            "_model_module_version": "1.2.0",
            "_view_count": null,
            "flex_flow": null,
            "width": null,
            "min_width": null,
            "border": null,
            "align_items": null,
            "bottom": null,
            "_model_module": "@jupyter-widgets/base",
            "top": null,
            "grid_column": null,
            "overflow_y": null,
            "overflow_x": null,
            "grid_auto_flow": null,
            "grid_area": null,
            "grid_template_columns": null,
            "flex": null,
            "_model_name": "LayoutModel",
            "justify_items": null,
            "grid_row": null,
            "max_height": null,
            "align_content": null,
            "visibility": null,
            "align_self": null,
            "height": null,
            "min_height": null,
            "padding": null,
            "grid_auto_rows": null,
            "grid_gap": null,
            "max_width": null,
            "order": null,
            "_view_module_version": "1.2.0",
            "grid_template_areas": null,
            "object_position": null,
            "object_fit": null,
            "grid_auto_columns": null,
            "margin": null,
            "display": null,
            "left": null
          }
        },
        "b6479e14998f47ebbc4e88984c8a89b4": {
          "model_module": "@jupyter-widgets/controls",
          "model_name": "IntProgressModel",
          "state": {
            "_view_name": "ProgressView",
            "style": "IPY_MODEL_f80bbfff2b4a4f9c9669d2f7b02a4e6d",
            "_dom_classes": [],
            "description": "",
            "_model_name": "IntProgressModel",
            "bar_style": "success",
            "max": 1,
            "_view_module": "@jupyter-widgets/controls",
            "_model_module_version": "1.5.0",
            "value": 1,
            "_view_count": null,
            "_view_module_version": "1.5.0",
            "orientation": "horizontal",
            "min": 0,
            "description_tooltip": null,
            "_model_module": "@jupyter-widgets/controls",
            "layout": "IPY_MODEL_57368e0bae8746afa8aa94451f3818fb"
          }
        },
        "71ec09a09a304c0da8a7eab035f1bf41": {
          "model_module": "@jupyter-widgets/controls",
          "model_name": "HTMLModel",
          "state": {
            "_view_name": "HTMLView",
            "style": "IPY_MODEL_eb42bc2ced464daba308181bce1387f3",
            "_dom_classes": [],
            "description": "",
            "_model_name": "HTMLModel",
            "placeholder": "​",
            "_view_module": "@jupyter-widgets/controls",
            "_model_module_version": "1.5.0",
            "value": " 4423680/? [00:02&lt;00:00, 2173464.09it/s]",
            "_view_count": null,
            "_view_module_version": "1.5.0",
            "description_tooltip": null,
            "_model_module": "@jupyter-widgets/controls",
            "layout": "IPY_MODEL_efe0f834da994107aebb6accf96d9e24"
          }
        },
        "f80bbfff2b4a4f9c9669d2f7b02a4e6d": {
          "model_module": "@jupyter-widgets/controls",
          "model_name": "ProgressStyleModel",
          "state": {
            "_view_name": "StyleView",
            "_model_name": "ProgressStyleModel",
            "description_width": "initial",
            "_view_module": "@jupyter-widgets/base",
            "_model_module_version": "1.5.0",
            "_view_count": null,
            "_view_module_version": "1.2.0",
            "bar_color": null,
            "_model_module": "@jupyter-widgets/controls"
          }
        },
        "57368e0bae8746afa8aa94451f3818fb": {
          "model_module": "@jupyter-widgets/base",
          "model_name": "LayoutModel",
          "state": {
            "_view_name": "LayoutView",
            "grid_template_rows": null,
            "right": null,
            "justify_content": null,
            "_view_module": "@jupyter-widgets/base",
            "overflow": null,
            "_model_module_version": "1.2.0",
            "_view_count": null,
            "flex_flow": null,
            "width": null,
            "min_width": null,
            "border": null,
            "align_items": null,
            "bottom": null,
            "_model_module": "@jupyter-widgets/base",
            "top": null,
            "grid_column": null,
            "overflow_y": null,
            "overflow_x": null,
            "grid_auto_flow": null,
            "grid_area": null,
            "grid_template_columns": null,
            "flex": null,
            "_model_name": "LayoutModel",
            "justify_items": null,
            "grid_row": null,
            "max_height": null,
            "align_content": null,
            "visibility": null,
            "align_self": null,
            "height": null,
            "min_height": null,
            "padding": null,
            "grid_auto_rows": null,
            "grid_gap": null,
            "max_width": null,
            "order": null,
            "_view_module_version": "1.2.0",
            "grid_template_areas": null,
            "object_position": null,
            "object_fit": null,
            "grid_auto_columns": null,
            "margin": null,
            "display": null,
            "left": null
          }
        },
        "eb42bc2ced464daba308181bce1387f3": {
          "model_module": "@jupyter-widgets/controls",
          "model_name": "DescriptionStyleModel",
          "state": {
            "_view_name": "StyleView",
            "_model_name": "DescriptionStyleModel",
            "description_width": "",
            "_view_module": "@jupyter-widgets/base",
            "_model_module_version": "1.5.0",
            "_view_count": null,
            "_view_module_version": "1.2.0",
            "_model_module": "@jupyter-widgets/controls"
          }
        },
        "efe0f834da994107aebb6accf96d9e24": {
          "model_module": "@jupyter-widgets/base",
          "model_name": "LayoutModel",
          "state": {
            "_view_name": "LayoutView",
            "grid_template_rows": null,
            "right": null,
            "justify_content": null,
            "_view_module": "@jupyter-widgets/base",
            "overflow": null,
            "_model_module_version": "1.2.0",
            "_view_count": null,
            "flex_flow": null,
            "width": null,
            "min_width": null,
            "border": null,
            "align_items": null,
            "bottom": null,
            "_model_module": "@jupyter-widgets/base",
            "top": null,
            "grid_column": null,
            "overflow_y": null,
            "overflow_x": null,
            "grid_auto_flow": null,
            "grid_area": null,
            "grid_template_columns": null,
            "flex": null,
            "_model_name": "LayoutModel",
            "justify_items": null,
            "grid_row": null,
            "max_height": null,
            "align_content": null,
            "visibility": null,
            "align_self": null,
            "height": null,
            "min_height": null,
            "padding": null,
            "grid_auto_rows": null,
            "grid_gap": null,
            "max_width": null,
            "order": null,
            "_view_module_version": "1.2.0",
            "grid_template_areas": null,
            "object_position": null,
            "object_fit": null,
            "grid_auto_columns": null,
            "margin": null,
            "display": null,
            "left": null
          }
        },
        "b55655b786324f13b1e6b03dc1a85045": {
          "model_module": "@jupyter-widgets/controls",
          "model_name": "HBoxModel",
          "state": {
            "_view_name": "HBoxView",
            "_dom_classes": [],
            "_model_name": "HBoxModel",
            "_view_module": "@jupyter-widgets/controls",
            "_model_module_version": "1.5.0",
            "_view_count": null,
            "_view_module_version": "1.5.0",
            "box_style": "",
            "layout": "IPY_MODEL_eccbba7de57f4bb196c73762b5a9d765",
            "_model_module": "@jupyter-widgets/controls",
            "children": [
              "IPY_MODEL_1bb20e4c807a4ad2b2293b337913a240",
              "IPY_MODEL_1dc5c2ec2e0f40ff99f3a4181c48b945"
            ]
          }
        },
        "eccbba7de57f4bb196c73762b5a9d765": {
          "model_module": "@jupyter-widgets/base",
          "model_name": "LayoutModel",
          "state": {
            "_view_name": "LayoutView",
            "grid_template_rows": null,
            "right": null,
            "justify_content": null,
            "_view_module": "@jupyter-widgets/base",
            "overflow": null,
            "_model_module_version": "1.2.0",
            "_view_count": null,
            "flex_flow": null,
            "width": null,
            "min_width": null,
            "border": null,
            "align_items": null,
            "bottom": null,
            "_model_module": "@jupyter-widgets/base",
            "top": null,
            "grid_column": null,
            "overflow_y": null,
            "overflow_x": null,
            "grid_auto_flow": null,
            "grid_area": null,
            "grid_template_columns": null,
            "flex": null,
            "_model_name": "LayoutModel",
            "justify_items": null,
            "grid_row": null,
            "max_height": null,
            "align_content": null,
            "visibility": null,
            "align_self": null,
            "height": null,
            "min_height": null,
            "padding": null,
            "grid_auto_rows": null,
            "grid_gap": null,
            "max_width": null,
            "order": null,
            "_view_module_version": "1.2.0",
            "grid_template_areas": null,
            "object_position": null,
            "object_fit": null,
            "grid_auto_columns": null,
            "margin": null,
            "display": null,
            "left": null
          }
        },
        "1bb20e4c807a4ad2b2293b337913a240": {
          "model_module": "@jupyter-widgets/controls",
          "model_name": "IntProgressModel",
          "state": {
            "_view_name": "ProgressView",
            "style": "IPY_MODEL_896eabd3a78843b899b64f18eca0f25d",
            "_dom_classes": [],
            "description": "",
            "_model_name": "IntProgressModel",
            "bar_style": "success",
            "max": 1,
            "_view_module": "@jupyter-widgets/controls",
            "_model_module_version": "1.5.0",
            "value": 1,
            "_view_count": null,
            "_view_module_version": "1.5.0",
            "orientation": "horizontal",
            "min": 0,
            "description_tooltip": null,
            "_model_module": "@jupyter-widgets/controls",
            "layout": "IPY_MODEL_661536682897440296ba0641f9abf381"
          }
        },
        "1dc5c2ec2e0f40ff99f3a4181c48b945": {
          "model_module": "@jupyter-widgets/controls",
          "model_name": "HTMLModel",
          "state": {
            "_view_name": "HTMLView",
            "style": "IPY_MODEL_cc93128a183047d7abe82a75972ab846",
            "_dom_classes": [],
            "description": "",
            "_model_name": "HTMLModel",
            "placeholder": "​",
            "_view_module": "@jupyter-widgets/controls",
            "_model_module_version": "1.5.0",
            "value": " 8192/? [00:00&lt;00:00, 8934.32it/s]",
            "_view_count": null,
            "_view_module_version": "1.5.0",
            "description_tooltip": null,
            "_model_module": "@jupyter-widgets/controls",
            "layout": "IPY_MODEL_a92462e577c5421a8ece23e1af7bfec3"
          }
        },
        "896eabd3a78843b899b64f18eca0f25d": {
          "model_module": "@jupyter-widgets/controls",
          "model_name": "ProgressStyleModel",
          "state": {
            "_view_name": "StyleView",
            "_model_name": "ProgressStyleModel",
            "description_width": "initial",
            "_view_module": "@jupyter-widgets/base",
            "_model_module_version": "1.5.0",
            "_view_count": null,
            "_view_module_version": "1.2.0",
            "bar_color": null,
            "_model_module": "@jupyter-widgets/controls"
          }
        },
        "661536682897440296ba0641f9abf381": {
          "model_module": "@jupyter-widgets/base",
          "model_name": "LayoutModel",
          "state": {
            "_view_name": "LayoutView",
            "grid_template_rows": null,
            "right": null,
            "justify_content": null,
            "_view_module": "@jupyter-widgets/base",
            "overflow": null,
            "_model_module_version": "1.2.0",
            "_view_count": null,
            "flex_flow": null,
            "width": null,
            "min_width": null,
            "border": null,
            "align_items": null,
            "bottom": null,
            "_model_module": "@jupyter-widgets/base",
            "top": null,
            "grid_column": null,
            "overflow_y": null,
            "overflow_x": null,
            "grid_auto_flow": null,
            "grid_area": null,
            "grid_template_columns": null,
            "flex": null,
            "_model_name": "LayoutModel",
            "justify_items": null,
            "grid_row": null,
            "max_height": null,
            "align_content": null,
            "visibility": null,
            "align_self": null,
            "height": null,
            "min_height": null,
            "padding": null,
            "grid_auto_rows": null,
            "grid_gap": null,
            "max_width": null,
            "order": null,
            "_view_module_version": "1.2.0",
            "grid_template_areas": null,
            "object_position": null,
            "object_fit": null,
            "grid_auto_columns": null,
            "margin": null,
            "display": null,
            "left": null
          }
        },
        "cc93128a183047d7abe82a75972ab846": {
          "model_module": "@jupyter-widgets/controls",
          "model_name": "DescriptionStyleModel",
          "state": {
            "_view_name": "StyleView",
            "_model_name": "DescriptionStyleModel",
            "description_width": "",
            "_view_module": "@jupyter-widgets/base",
            "_model_module_version": "1.5.0",
            "_view_count": null,
            "_view_module_version": "1.2.0",
            "_model_module": "@jupyter-widgets/controls"
          }
        },
        "a92462e577c5421a8ece23e1af7bfec3": {
          "model_module": "@jupyter-widgets/base",
          "model_name": "LayoutModel",
          "state": {
            "_view_name": "LayoutView",
            "grid_template_rows": null,
            "right": null,
            "justify_content": null,
            "_view_module": "@jupyter-widgets/base",
            "overflow": null,
            "_model_module_version": "1.2.0",
            "_view_count": null,
            "flex_flow": null,
            "width": null,
            "min_width": null,
            "border": null,
            "align_items": null,
            "bottom": null,
            "_model_module": "@jupyter-widgets/base",
            "top": null,
            "grid_column": null,
            "overflow_y": null,
            "overflow_x": null,
            "grid_auto_flow": null,
            "grid_area": null,
            "grid_template_columns": null,
            "flex": null,
            "_model_name": "LayoutModel",
            "justify_items": null,
            "grid_row": null,
            "max_height": null,
            "align_content": null,
            "visibility": null,
            "align_self": null,
            "height": null,
            "min_height": null,
            "padding": null,
            "grid_auto_rows": null,
            "grid_gap": null,
            "max_width": null,
            "order": null,
            "_view_module_version": "1.2.0",
            "grid_template_areas": null,
            "object_position": null,
            "object_fit": null,
            "grid_auto_columns": null,
            "margin": null,
            "display": null,
            "left": null
          }
        }
      }
    }
  },
  "cells": [
    {
      "cell_type": "code",
      "metadata": {
        "id": "P_oPO3Hk7DZk",
        "colab_type": "code",
        "colab": {}
      },
      "source": [
        "import os\n",
        "import torch\n",
        "import torchvision\n",
        "import torch.nn as nn\n",
        "import torch.optim as optim\n",
        "\n",
        "from torchvision import transforms, datasets\n",
        "from torchvision.utils import save_image\n",
        "\n",
        "import matplotlib.pyplot as plt\n",
        "import numpy as np\n",
        "\n",
        "from google.colab.patches import cv2_imshow"
      ],
      "execution_count": 0,
      "outputs": []
    },
    {
      "cell_type": "code",
      "metadata": {
        "id": "6vaYK9zM7iz7",
        "colab_type": "code",
        "outputId": "71f248d4-eac3-4fa3-b0b8-e0aae4d2b463",
        "colab": {
          "base_uri": "https://localhost:8080/",
          "height": 35
        }
      },
      "source": [
        "# 하이퍼파라미터\n",
        "epochs = 300\n",
        "batch_size = 100\n",
        "device = torch.device(\"cuda\" if torch.cuda.is_available() else \"cpu\")\n",
        "print(\"Using Device:\", device)"
      ],
      "execution_count": 0,
      "outputs": [
        {
          "output_type": "stream",
          "text": [
            "Using Device: cuda\n"
          ],
          "name": "stdout"
        }
      ]
    },
    {
      "cell_type": "code",
      "metadata": {
        "id": "r4aJsQLh7i3R",
        "colab_type": "code",
        "outputId": "761a1191-6f8e-4bc3-816d-0ae4af73adfb",
        "colab": {
          "base_uri": "https://localhost:8080/",
          "height": 325,
          "referenced_widgets": [
            "448f27c4ab3f4826bddbdc7e80a2bc01",
            "8d75ca502b464b2881ac3d8751dd3498",
            "800d125c23bc42498a5068f9db67adfd",
            "30037a9243dc43d28f7e688b276d61ca",
            "3657d0ab604c4d1181f3a922530f3ad7",
            "9948de0675a6414c94bc1d077c1384a3",
            "0d8ee4ce89be41138d10d27d294416a6",
            "fcd26dc5730347f68daf2250a3123bdf",
            "b79e8c9a60f846a5b98c54f15adf2c8f",
            "ef0b1fa498d846d688505474ab642833",
            "2605abcc882e4bda8121a3706ce3fd79",
            "c5e2ce269772463b8dce3dcc6a89b88a",
            "5f7d8b7f821d469d926ab9186fb34d8c",
            "5bbb458dd0b6432c870a569cbfe0a930",
            "cd219aacbf8f498e909b6b250ef1388a",
            "3a31df000db54d8aa1da744bbf2224fb",
            "8b29f22cf0f249a4a5b5e900bcb9325a",
            "b488d607e5d24ac8befba9edb512cba5",
            "b6479e14998f47ebbc4e88984c8a89b4",
            "71ec09a09a304c0da8a7eab035f1bf41",
            "f80bbfff2b4a4f9c9669d2f7b02a4e6d",
            "57368e0bae8746afa8aa94451f3818fb",
            "eb42bc2ced464daba308181bce1387f3",
            "efe0f834da994107aebb6accf96d9e24",
            "b55655b786324f13b1e6b03dc1a85045",
            "eccbba7de57f4bb196c73762b5a9d765",
            "1bb20e4c807a4ad2b2293b337913a240",
            "1dc5c2ec2e0f40ff99f3a4181c48b945",
            "896eabd3a78843b899b64f18eca0f25d",
            "661536682897440296ba0641f9abf381",
            "cc93128a183047d7abe82a75972ab846",
            "a92462e577c5421a8ece23e1af7bfec3"
          ]
        }
      },
      "source": [
        "# Fashion MNIST 데이터셋\n",
        "\n",
        "# mean, std 각각 0.5로 정규화하는 transform 정의\n",
        "transform=transforms.Compose([transforms.ToTensor(),transforms.Normalize((0.5,), (0.5,))])\n",
        "\n",
        "# 위의 transform을 따르도록 Dataset 변환\n",
        "trainset = datasets.FashionMNIST('./.data', train=True, download=True, transform=transform)\n",
        "\n",
        "# 학습 시 용이한 반복을 위한 DataLoader 설정\n",
        "train_loader = torch.utils.data.DataLoader(dataset = trainset, batch_size = batch_size, shuffle = True)"
      ],
      "execution_count": 0,
      "outputs": [
        {
          "output_type": "stream",
          "text": [
            "Downloading http://fashion-mnist.s3-website.eu-central-1.amazonaws.com/train-images-idx3-ubyte.gz to ./.data/FashionMNIST/raw/train-images-idx3-ubyte.gz\n"
          ],
          "name": "stdout"
        },
        {
          "output_type": "display_data",
          "data": {
            "application/vnd.jupyter.widget-view+json": {
              "model_id": "448f27c4ab3f4826bddbdc7e80a2bc01",
              "version_minor": 0,
              "version_major": 2
            },
            "text/plain": [
              "HBox(children=(IntProgress(value=1, bar_style='info', max=1), HTML(value='')))"
            ]
          },
          "metadata": {
            "tags": []
          }
        },
        {
          "output_type": "stream",
          "text": [
            "Extracting ./.data/FashionMNIST/raw/train-images-idx3-ubyte.gz to ./.data/FashionMNIST/raw\n",
            "Downloading http://fashion-mnist.s3-website.eu-central-1.amazonaws.com/train-labels-idx1-ubyte.gz to ./.data/FashionMNIST/raw/train-labels-idx1-ubyte.gz\n"
          ],
          "name": "stdout"
        },
        {
          "output_type": "display_data",
          "data": {
            "application/vnd.jupyter.widget-view+json": {
              "model_id": "b79e8c9a60f846a5b98c54f15adf2c8f",
              "version_minor": 0,
              "version_major": 2
            },
            "text/plain": [
              "HBox(children=(IntProgress(value=1, bar_style='info', max=1), HTML(value='')))"
            ]
          },
          "metadata": {
            "tags": []
          }
        },
        {
          "output_type": "stream",
          "text": [
            "Extracting ./.data/FashionMNIST/raw/train-labels-idx1-ubyte.gz to ./.data/FashionMNIST/raw\n",
            "Downloading http://fashion-mnist.s3-website.eu-central-1.amazonaws.com/t10k-images-idx3-ubyte.gz to ./.data/FashionMNIST/raw/t10k-images-idx3-ubyte.gz\n"
          ],
          "name": "stdout"
        },
        {
          "output_type": "display_data",
          "data": {
            "application/vnd.jupyter.widget-view+json": {
              "model_id": "8b29f22cf0f249a4a5b5e900bcb9325a",
              "version_minor": 0,
              "version_major": 2
            },
            "text/plain": [
              "HBox(children=(IntProgress(value=1, bar_style='info', max=1), HTML(value='')))"
            ]
          },
          "metadata": {
            "tags": []
          }
        },
        {
          "output_type": "stream",
          "text": [
            "Extracting ./.data/FashionMNIST/raw/t10k-images-idx3-ubyte.gz to ./.data/FashionMNIST/raw\n",
            "Downloading http://fashion-mnist.s3-website.eu-central-1.amazonaws.com/t10k-labels-idx1-ubyte.gz to ./.data/FashionMNIST/raw/t10k-labels-idx1-ubyte.gz\n"
          ],
          "name": "stdout"
        },
        {
          "output_type": "display_data",
          "data": {
            "application/vnd.jupyter.widget-view+json": {
              "model_id": "b55655b786324f13b1e6b03dc1a85045",
              "version_minor": 0,
              "version_major": 2
            },
            "text/plain": [
              "HBox(children=(IntProgress(value=1, bar_style='info', max=1), HTML(value='')))"
            ]
          },
          "metadata": {
            "tags": []
          }
        },
        {
          "output_type": "stream",
          "text": [
            "Extracting ./.data/FashionMNIST/raw/t10k-labels-idx1-ubyte.gz to ./.data/FashionMNIST/raw\n",
            "Processing...\n",
            "Done!\n"
          ],
          "name": "stdout"
        }
      ]
    },
    {
      "cell_type": "code",
      "metadata": {
        "id": "02gHSsR7bHUb",
        "colab_type": "code",
        "outputId": "e420537d-2b23-40f2-d76f-c5f8283952d8",
        "colab": {
          "base_uri": "https://localhost:8080/",
          "height": 495
        }
      },
      "source": [
        "# Dataset 시각화\n",
        "img_batch, label_batch = next(iter(train_loader))\n",
        "print(img_batch.shape, label_batch.shape)\n",
        "\n",
        "# Label index to Word\n",
        "label_list = ['T-shirt/top', 'Trouser', 'Pullover', 'Dress', 'Coat', 'Sandal', 'Shirt', 'Sneaker', 'Bag', 'Ankle boot']\n",
        "\n",
        "for i in range(10):\n",
        "  cv2_imshow(img_batch.numpy()[i, 0]* 255 + 100)\n",
        "  print(label_list[label_batch[i].numpy()])"
      ],
      "execution_count": 0,
      "outputs": [
        {
          "output_type": "stream",
          "text": [
            "torch.Size([100, 1, 28, 28]) torch.Size([100])\n"
          ],
          "name": "stdout"
        },
        {
          "output_type": "display_data",
          "data": {
            "image/png": "[encoded data removed]",
            "text/plain": [
              "<PIL.Image.Image image mode=L size=28x28 at 0x7F27F6D1DB70>"
            ]
          },
          "metadata": {
            "tags": []
          }
        },
        {
          "output_type": "stream",
          "text": [
            "Bag\n"
          ],
          "name": "stdout"
        },
        {
          "output_type": "display_data",
          "data": {
            "image/png": "[encoded data removed]",
            "text/plain": [
              "<PIL.Image.Image image mode=L size=28x28 at 0x7F27F6D1DF60>"
            ]
          },
          "metadata": {
            "tags": []
          }
        },
        {
          "output_type": "stream",
          "text": [
            "Sandal\n"
          ],
          "name": "stdout"
        },
        {
          "output_type": "display_data",
          "data": {
            "image/png": "[encoded data removed]",
            "text/plain": [
              "<PIL.Image.Image image mode=L size=28x28 at 0x7F27F6D1DB70>"
            ]
          },
          "metadata": {
            "tags": []
          }
        },
        {
          "output_type": "stream",
          "text": [
            "Pullover\n"
          ],
          "name": "stdout"
        },
        {
          "output_type": "display_data",
          "data": {
            "image/png": "[encoded data removed]",
            "text/plain": [
              "<PIL.Image.Image image mode=L size=28x28 at 0x7F27F6D1D5F8>"
            ]
          },
          "metadata": {
            "tags": []
          }
        },
        {
          "output_type": "stream",
          "text": [
            "Sandal\n"
          ],
          "name": "stdout"
        },
        {
          "output_type": "display_data",
          "data": {
            "image/png": "[encoded data removed]",
            "text/plain": [
              "<PIL.Image.Image image mode=L size=28x28 at 0x7F27F6D1DB70>"
            ]
          },
          "metadata": {
            "tags": []
          }
        },
        {
          "output_type": "stream",
          "text": [
            "T-shirt/top\n"
          ],
          "name": "stdout"
        },
        {
          "output_type": "display_data",
          "data": {
            "image/png": "[encoded data removed]",
            "text/plain": [
              "<PIL.Image.Image image mode=L size=28x28 at 0x7F27F6D1D5F8>"
            ]
          },
          "metadata": {
            "tags": []
          }
        },
        {
          "output_type": "stream",
          "text": [
            "Coat\n"
          ],
          "name": "stdout"
        },
        {
          "output_type": "display_data",
          "data": {
            "image/png": "[encoded data removed]",
            "text/plain": [
              "<PIL.Image.Image image mode=L size=28x28 at 0x7F27F6D1DB70>"
            ]
          },
          "metadata": {
            "tags": []
          }
        },
        {
          "output_type": "stream",
          "text": [
            "Sandal\n"
          ],
          "name": "stdout"
        },
        {
          "output_type": "display_data",
          "data": {
            "image/png": "[encoded data removed]",
            "text/plain": [
              "<PIL.Image.Image image mode=L size=28x28 at 0x7F27F6D1D5F8>"
            ]
          },
          "metadata": {
            "tags": []
          }
        },
        {
          "output_type": "stream",
          "text": [
            "Bag\n"
          ],
          "name": "stdout"
        },
        {
          "output_type": "display_data",
          "data": {
            "image/png": "[encoded data removed]",
            "text/plain": [
              "<PIL.Image.Image image mode=L size=28x28 at 0x7F27F6D1DB70>"
            ]
          },
          "metadata": {
            "tags": []
          }
        },
        {
          "output_type": "stream",
          "text": [
            "Bag\n"
          ],
          "name": "stdout"
        },
        {
          "output_type": "display_data",
          "data": {
            "image/png": "[encoded data removed]",
            "text/plain": [
              "<PIL.Image.Image image mode=L size=28x28 at 0x7F27F6D1D5F8>"
            ]
          },
          "metadata": {
            "tags": []
          }
        },
        {
          "output_type": "stream",
          "text": [
            "T-shirt/top\n"
          ],
          "name": "stdout"
        }
      ]
    },
    {
      "cell_type": "code",
      "metadata": {
        "id": "WKK6IiKv7i5N",
        "colab_type": "code",
        "colab": {}
      },
      "source": [
        "# 생성자 (Generator)\n",
        "class Generator(nn.Module):\n",
        "    def __init__(self):\n",
        "        super().__init__()\n",
        "\n",
        "        # Embedding(len_vocab, emb_dim)\n",
        "        # len_vocab : 클래스 종류 수\n",
        "        # emb_dim : 각 클래스가 변환 될 벡터의 차원\n",
        "        self.embed = nn.Embedding(10, 10)\n",
        "        \n",
        "        self.model = nn.Sequential(\n",
        "            # 110 = 100(Random Noise) + 10(Embedded Label)\n",
        "            nn.Linear(110, 256),\n",
        "            nn.LeakyReLU(0.2, inplace=True),\n",
        "            nn.Linear(256, 512),\n",
        "            nn.LeakyReLU(0.2, inplace=True),\n",
        "            nn.Linear(512, 1024),\n",
        "            nn.LeakyReLU(0.2, inplace=True),\n",
        "            nn.Linear(1024, 784),\n",
        "            nn.Tanh()\n",
        "        )\n",
        "    \n",
        "    def forward(self, z, labels):\n",
        "        c = self.embed(labels)\n",
        "        \n",
        "        x = torch.cat([z, c], 1)\n",
        "\n",
        "        # Model Feed-forward\n",
        "        return self.model(x)"
      ],
      "execution_count": 0,
      "outputs": []
    },
    {
      "cell_type": "code",
      "metadata": {
        "id": "Ss1HU20i7i_O",
        "colab_type": "code",
        "colab": {}
      },
      "source": [
        "# 판별자 (Discriminator)\n",
        "class Discriminator(nn.Module):\n",
        "    def __init__(self):\n",
        "        super().__init__()\n",
        "        \n",
        "        self.embed = nn.Embedding(10, 10)\n",
        "        \n",
        "        self.model = nn.Sequential(\n",
        "            nn.Linear(794, 1024),\n",
        "            nn.LeakyReLU(0.2, inplace=True),\n",
        "            nn.Dropout(0.3),\n",
        "            nn.Linear(1024, 512),\n",
        "            nn.LeakyReLU(0.2, inplace=True),\n",
        "            nn.Dropout(0.3),\n",
        "            nn.Linear(512, 256),\n",
        "            nn.LeakyReLU(0.2, inplace=True),\n",
        "            nn.Dropout(0.3),\n",
        "            nn.Linear(256, 1),\n",
        "            nn.Sigmoid()\n",
        "        )\n",
        "    \n",
        "    def forward(self, x, labels):\n",
        "        c = self.embed(labels)\n",
        "        x = torch.cat([x, c], 1)\n",
        "        return self.model(x)"
      ],
      "execution_count": 0,
      "outputs": []
    },
    {
      "cell_type": "code",
      "metadata": {
        "id": "jmMMpfwZ7jBD",
        "colab_type": "code",
        "colab": {}
      },
      "source": [
        "# Model 객체화\n",
        "D = Discriminator().to(device)\n",
        "G = Generator().to(device)\n",
        "\n",
        "criterion = nn.BCELoss() # Binary Cross Entropy Loss\n",
        "\n",
        "# Adam Optimizer\n",
        "d_optimizer = optim.Adam(D.parameters(), lr =0.0002)\n",
        "g_optimizer = optim.Adam(G.parameters(), lr =0.0002)"
      ],
      "execution_count": 0,
      "outputs": []
    },
    {
      "cell_type": "code",
      "metadata": {
        "id": "GXWi3atl7jDG",
        "colab_type": "code",
        "outputId": "973e065a-7e69-46d8-b044-de693788e068",
        "colab": {
          "base_uri": "https://localhost:8080/",
          "height": 1000
        }
      },
      "source": [
        "for epoch in range(epochs):\n",
        "    for i, (images, labels) in enumerate(train_loader):\n",
        "        images = images.reshape(batch_size, -1).to(device) # Linear 입력을 위한 1자로 펴기\n",
        "        \n",
        "        # Loss 계산을 위한 '진짜'와 '가짜' 레이블 생성\n",
        "        real_labels = torch.ones(batch_size, 1).to(device) # 진짜 Label\n",
        "        fake_labels = torch.zeros(batch_size, 1).to(device) # 가짜 Label\n",
        "\n",
        "        # Discriminator Real Image Loss 및 확률 계산\n",
        "        outputs = D(images, labels.to(device))\n",
        "        d_loss_real = criterion(outputs, real_labels)\n",
        "        real_score = outputs # D가 진짜 이미지라 판단할 확률\n",
        "    \n",
        "        z = torch.randn(batch_size, 100).to(device) # 평균 0 분산 1 Gaussian 랜덤 노이즈 생성\n",
        "        g_label = torch.randint(0, 10, (batch_size,)).to(device) # 0 ~ 9 범위의 랜덤 분류 생성\n",
        "        fake_images = G(z, g_label) # 가짜 이미지 생성\n",
        "        \n",
        "        # Discriminator Fake Image Loss 및 확률 계산\n",
        "        outputs = D(fake_images, g_label)\n",
        "        d_loss_fake = criterion(outputs, fake_labels)\n",
        "        fake_score = outputs\n",
        "        \n",
        "        # 진짜 / 가짜 Loss 를 더해 Total Loss 생성 \n",
        "        d_loss = d_loss_real + d_loss_fake\n",
        "        \n",
        "        # D 학습\n",
        "        d_optimizer.zero_grad()\n",
        "        g_optimizer.zero_grad() # D, G Gradient 초기화\n",
        "        d_loss.backward()\n",
        "        d_optimizer.step() # D Update\n",
        "        \n",
        "        # G 학습을 위한 오차 계산\n",
        "        fake_images = G(z, g_label)\n",
        "        outputs = D(fake_images, g_label)\n",
        "        g_loss = criterion(outputs, real_labels)\n",
        "\n",
        "        # G 학습\n",
        "        d_optimizer.zero_grad()\n",
        "        g_optimizer.zero_grad() # D, G Gradient 초기화\n",
        "        g_loss.backward()\n",
        "        g_optimizer.step() # G Update\n",
        "        \n",
        "    print('Epoch [{}/{}] d_loss:{:.4f} g_loss: {:.4f} D(x):{:.2f} D(G(z)):{:.2f}'\n",
        "          .format(epoch, epochs, d_loss.item(), g_loss.item(), real_score.mean().item(), fake_score.mean().item()))"
      ],
      "execution_count": 0,
      "outputs": [
        {
          "output_type": "stream",
          "text": [
            "Epoch [0/300] d_loss:0.0796 g_loss: 6.5585 D(x):0.98 D(G(z)):0.05\n",
            "Epoch [1/300] d_loss:0.1790 g_loss: 4.4126 D(x):0.95 D(G(z)):0.09\n",
            "Epoch [2/300] d_loss:0.4852 g_loss: 3.5604 D(x):0.82 D(G(z)):0.09\n",
            "Epoch [3/300] d_loss:0.1530 g_loss: 4.6335 D(x):0.97 D(G(z)):0.07\n",
            "Epoch [4/300] d_loss:0.2825 g_loss: 3.0117 D(x):0.95 D(G(z)):0.13\n",
            "Epoch [5/300] d_loss:0.7496 g_loss: 2.4259 D(x):0.84 D(G(z)):0.26\n",
            "Epoch [6/300] d_loss:0.5448 g_loss: 2.6978 D(x):0.82 D(G(z)):0.13\n",
            "Epoch [7/300] d_loss:0.7025 g_loss: 2.4801 D(x):0.76 D(G(z)):0.19\n",
            "Epoch [8/300] d_loss:0.6811 g_loss: 2.0081 D(x):0.79 D(G(z)):0.21\n",
            "Epoch [9/300] d_loss:0.8937 g_loss: 1.7402 D(x):0.70 D(G(z)):0.27\n",
            "Epoch [10/300] d_loss:0.8977 g_loss: 2.2982 D(x):0.71 D(G(z)):0.26\n",
            "Epoch [11/300] d_loss:1.0163 g_loss: 1.3641 D(x):0.69 D(G(z)):0.35\n",
            "Epoch [12/300] d_loss:0.9658 g_loss: 1.8819 D(x):0.66 D(G(z)):0.24\n",
            "Epoch [13/300] d_loss:0.7361 g_loss: 1.6307 D(x):0.79 D(G(z)):0.29\n",
            "Epoch [14/300] d_loss:1.2117 g_loss: 1.7161 D(x):0.60 D(G(z)):0.29\n",
            "Epoch [15/300] d_loss:0.8244 g_loss: 1.6382 D(x):0.82 D(G(z)):0.34\n",
            "Epoch [16/300] d_loss:0.6676 g_loss: 1.7974 D(x):0.79 D(G(z)):0.26\n",
            "Epoch [17/300] d_loss:0.9811 g_loss: 1.3264 D(x):0.68 D(G(z)):0.34\n",
            "Epoch [18/300] d_loss:0.8680 g_loss: 1.4377 D(x):0.68 D(G(z)):0.27\n",
            "Epoch [19/300] d_loss:1.0864 g_loss: 1.2384 D(x):0.67 D(G(z)):0.36\n",
            "Epoch [20/300] d_loss:0.8914 g_loss: 1.8596 D(x):0.68 D(G(z)):0.24\n",
            "Epoch [21/300] d_loss:0.9042 g_loss: 1.3457 D(x):0.69 D(G(z)):0.33\n",
            "Epoch [22/300] d_loss:1.1159 g_loss: 1.4387 D(x):0.73 D(G(z)):0.41\n",
            "Epoch [23/300] d_loss:0.9088 g_loss: 1.3775 D(x):0.76 D(G(z)):0.34\n",
            "Epoch [24/300] d_loss:1.0921 g_loss: 1.2377 D(x):0.63 D(G(z)):0.34\n",
            "Epoch [25/300] d_loss:0.9677 g_loss: 1.6172 D(x):0.64 D(G(z)):0.29\n",
            "Epoch [26/300] d_loss:1.2371 g_loss: 1.0213 D(x):0.62 D(G(z)):0.44\n",
            "Epoch [27/300] d_loss:1.0884 g_loss: 1.1342 D(x):0.67 D(G(z)):0.40\n",
            "Epoch [28/300] d_loss:1.1158 g_loss: 1.0607 D(x):0.59 D(G(z)):0.39\n",
            "Epoch [29/300] d_loss:1.1470 g_loss: 1.2432 D(x):0.63 D(G(z)):0.38\n",
            "Epoch [30/300] d_loss:1.2650 g_loss: 1.3201 D(x):0.53 D(G(z)):0.33\n",
            "Epoch [31/300] d_loss:0.9066 g_loss: 1.2873 D(x):0.69 D(G(z)):0.33\n",
            "Epoch [32/300] d_loss:1.0547 g_loss: 1.2767 D(x):0.62 D(G(z)):0.34\n",
            "Epoch [33/300] d_loss:0.8948 g_loss: 1.3686 D(x):0.75 D(G(z)):0.36\n",
            "Epoch [34/300] d_loss:1.1994 g_loss: 1.2494 D(x):0.55 D(G(z)):0.34\n",
            "Epoch [35/300] d_loss:0.9163 g_loss: 1.4417 D(x):0.69 D(G(z)):0.32\n",
            "Epoch [36/300] d_loss:0.8913 g_loss: 1.6269 D(x):0.65 D(G(z)):0.26\n",
            "Epoch [37/300] d_loss:1.2243 g_loss: 1.1135 D(x):0.62 D(G(z)):0.42\n",
            "Epoch [38/300] d_loss:1.1606 g_loss: 1.0512 D(x):0.66 D(G(z)):0.42\n",
            "Epoch [39/300] d_loss:1.0800 g_loss: 1.1793 D(x):0.64 D(G(z)):0.36\n",
            "Epoch [40/300] d_loss:1.1400 g_loss: 1.4140 D(x):0.59 D(G(z)):0.29\n",
            "Epoch [41/300] d_loss:1.2073 g_loss: 0.9611 D(x):0.56 D(G(z)):0.42\n",
            "Epoch [42/300] d_loss:1.2677 g_loss: 0.9381 D(x):0.60 D(G(z)):0.42\n",
            "Epoch [43/300] d_loss:1.0449 g_loss: 1.4847 D(x):0.59 D(G(z)):0.30\n",
            "Epoch [44/300] d_loss:0.9784 g_loss: 1.1506 D(x):0.69 D(G(z)):0.37\n",
            "Epoch [45/300] d_loss:1.0211 g_loss: 1.3562 D(x):0.70 D(G(z)):0.38\n",
            "Epoch [46/300] d_loss:1.0218 g_loss: 1.1631 D(x):0.67 D(G(z)):0.36\n",
            "Epoch [47/300] d_loss:1.1864 g_loss: 1.0135 D(x):0.62 D(G(z)):0.43\n",
            "Epoch [48/300] d_loss:1.1315 g_loss: 1.1876 D(x):0.66 D(G(z)):0.39\n",
            "Epoch [49/300] d_loss:1.0604 g_loss: 1.3256 D(x):0.67 D(G(z)):0.36\n",
            "Epoch [50/300] d_loss:1.0565 g_loss: 1.2924 D(x):0.69 D(G(z)):0.37\n",
            "Epoch [51/300] d_loss:1.0795 g_loss: 1.2088 D(x):0.67 D(G(z)):0.37\n",
            "Epoch [52/300] d_loss:1.1193 g_loss: 1.0073 D(x):0.64 D(G(z)):0.40\n",
            "Epoch [53/300] d_loss:1.1241 g_loss: 1.0072 D(x):0.62 D(G(z)):0.41\n",
            "Epoch [54/300] d_loss:1.2468 g_loss: 1.0290 D(x):0.52 D(G(z)):0.37\n",
            "Epoch [55/300] d_loss:1.0295 g_loss: 1.0597 D(x):0.68 D(G(z)):0.40\n",
            "Epoch [56/300] d_loss:1.1642 g_loss: 1.1166 D(x):0.61 D(G(z)):0.39\n",
            "Epoch [57/300] d_loss:1.1258 g_loss: 1.1562 D(x):0.65 D(G(z)):0.38\n",
            "Epoch [58/300] d_loss:1.0665 g_loss: 1.1138 D(x):0.65 D(G(z)):0.37\n",
            "Epoch [59/300] d_loss:1.1553 g_loss: 1.0209 D(x):0.59 D(G(z)):0.42\n",
            "Epoch [60/300] d_loss:1.1199 g_loss: 1.0702 D(x):0.64 D(G(z)):0.40\n",
            "Epoch [61/300] d_loss:1.1926 g_loss: 1.1040 D(x):0.61 D(G(z)):0.38\n",
            "Epoch [62/300] d_loss:1.4265 g_loss: 1.0517 D(x):0.49 D(G(z)):0.39\n",
            "Epoch [63/300] d_loss:1.0780 g_loss: 1.0533 D(x):0.64 D(G(z)):0.39\n",
            "Epoch [64/300] d_loss:1.3101 g_loss: 0.8601 D(x):0.59 D(G(z)):0.49\n",
            "Epoch [65/300] d_loss:1.2707 g_loss: 0.9121 D(x):0.55 D(G(z)):0.43\n",
            "Epoch [66/300] d_loss:1.2816 g_loss: 1.0009 D(x):0.53 D(G(z)):0.39\n",
            "Epoch [67/300] d_loss:0.9324 g_loss: 1.2710 D(x):0.68 D(G(z)):0.34\n",
            "Epoch [68/300] d_loss:1.0799 g_loss: 1.1197 D(x):0.65 D(G(z)):0.39\n",
            "Epoch [69/300] d_loss:1.2098 g_loss: 1.0950 D(x):0.58 D(G(z)):0.39\n",
            "Epoch [70/300] d_loss:1.0109 g_loss: 1.1327 D(x):0.63 D(G(z)):0.35\n",
            "Epoch [71/300] d_loss:1.1157 g_loss: 1.0596 D(x):0.59 D(G(z)):0.38\n",
            "Epoch [72/300] d_loss:1.2611 g_loss: 1.2956 D(x):0.54 D(G(z)):0.34\n",
            "Epoch [73/300] d_loss:1.1545 g_loss: 1.1051 D(x):0.60 D(G(z)):0.40\n",
            "Epoch [74/300] d_loss:1.2088 g_loss: 1.1341 D(x):0.55 D(G(z)):0.38\n",
            "Epoch [75/300] d_loss:1.3991 g_loss: 1.0235 D(x):0.58 D(G(z)):0.46\n",
            "Epoch [76/300] d_loss:1.1149 g_loss: 1.0549 D(x):0.67 D(G(z)):0.42\n",
            "Epoch [77/300] d_loss:1.2213 g_loss: 0.9736 D(x):0.61 D(G(z)):0.46\n",
            "Epoch [78/300] d_loss:1.2331 g_loss: 0.9930 D(x):0.59 D(G(z)):0.42\n",
            "Epoch [79/300] d_loss:1.3409 g_loss: 0.9689 D(x):0.54 D(G(z)):0.41\n",
            "Epoch [80/300] d_loss:1.1209 g_loss: 1.1764 D(x):0.63 D(G(z)):0.37\n",
            "Epoch [81/300] d_loss:1.0326 g_loss: 0.9742 D(x):0.66 D(G(z)):0.41\n",
            "Epoch [82/300] d_loss:1.0557 g_loss: 1.0608 D(x):0.64 D(G(z)):0.40\n",
            "Epoch [83/300] d_loss:1.1397 g_loss: 1.0808 D(x):0.64 D(G(z)):0.41\n",
            "Epoch [84/300] d_loss:1.0778 g_loss: 1.2712 D(x):0.68 D(G(z)):0.38\n",
            "Epoch [85/300] d_loss:1.2999 g_loss: 0.9144 D(x):0.56 D(G(z)):0.44\n",
            "Epoch [86/300] d_loss:1.1565 g_loss: 1.1486 D(x):0.59 D(G(z)):0.39\n",
            "Epoch [87/300] d_loss:1.1762 g_loss: 1.1878 D(x):0.62 D(G(z)):0.39\n",
            "Epoch [88/300] d_loss:1.1303 g_loss: 1.0780 D(x):0.63 D(G(z)):0.40\n",
            "Epoch [89/300] d_loss:1.1508 g_loss: 0.9828 D(x):0.58 D(G(z)):0.40\n",
            "Epoch [90/300] d_loss:1.3486 g_loss: 0.9186 D(x):0.51 D(G(z)):0.44\n",
            "Epoch [91/300] d_loss:1.1656 g_loss: 0.9259 D(x):0.63 D(G(z)):0.43\n",
            "Epoch [92/300] d_loss:1.2235 g_loss: 0.9893 D(x):0.57 D(G(z)):0.39\n",
            "Epoch [93/300] d_loss:1.2104 g_loss: 1.2345 D(x):0.60 D(G(z)):0.37\n",
            "Epoch [94/300] d_loss:1.1659 g_loss: 0.9231 D(x):0.64 D(G(z)):0.44\n",
            "Epoch [95/300] d_loss:1.1167 g_loss: 1.0100 D(x):0.61 D(G(z)):0.38\n",
            "Epoch [96/300] d_loss:1.1371 g_loss: 1.0789 D(x):0.62 D(G(z)):0.40\n",
            "Epoch [97/300] d_loss:1.2964 g_loss: 1.0662 D(x):0.55 D(G(z)):0.41\n",
            "Epoch [98/300] d_loss:1.2032 g_loss: 0.9203 D(x):0.61 D(G(z)):0.43\n",
            "Epoch [99/300] d_loss:1.1185 g_loss: 1.1737 D(x):0.58 D(G(z)):0.34\n",
            "Epoch [100/300] d_loss:1.2276 g_loss: 0.8983 D(x):0.60 D(G(z)):0.45\n",
            "Epoch [101/300] d_loss:1.2071 g_loss: 0.7893 D(x):0.57 D(G(z)):0.45\n",
            "Epoch [102/300] d_loss:1.1593 g_loss: 0.8656 D(x):0.64 D(G(z)):0.46\n",
            "Epoch [103/300] d_loss:1.1064 g_loss: 1.0813 D(x):0.67 D(G(z)):0.42\n",
            "Epoch [104/300] d_loss:1.1971 g_loss: 1.2226 D(x):0.57 D(G(z)):0.36\n",
            "Epoch [105/300] d_loss:1.3583 g_loss: 0.9592 D(x):0.57 D(G(z)):0.44\n",
            "Epoch [106/300] d_loss:1.2004 g_loss: 0.9401 D(x):0.61 D(G(z)):0.43\n",
            "Epoch [107/300] d_loss:1.2469 g_loss: 0.9053 D(x):0.57 D(G(z)):0.43\n",
            "Epoch [108/300] d_loss:1.1010 g_loss: 1.0346 D(x):0.64 D(G(z)):0.42\n",
            "Epoch [109/300] d_loss:0.9484 g_loss: 1.1058 D(x):0.69 D(G(z)):0.35\n",
            "Epoch [110/300] d_loss:1.2867 g_loss: 0.9180 D(x):0.58 D(G(z)):0.44\n",
            "Epoch [111/300] d_loss:1.3010 g_loss: 0.9426 D(x):0.60 D(G(z)):0.44\n",
            "Epoch [112/300] d_loss:1.1651 g_loss: 1.1562 D(x):0.56 D(G(z)):0.36\n",
            "Epoch [113/300] d_loss:1.2898 g_loss: 0.9862 D(x):0.51 D(G(z)):0.40\n",
            "Epoch [114/300] d_loss:1.2287 g_loss: 0.9600 D(x):0.60 D(G(z)):0.42\n",
            "Epoch [115/300] d_loss:1.2986 g_loss: 0.9001 D(x):0.57 D(G(z)):0.45\n",
            "Epoch [116/300] d_loss:1.3196 g_loss: 0.8982 D(x):0.58 D(G(z)):0.46\n",
            "Epoch [117/300] d_loss:1.2765 g_loss: 1.2039 D(x):0.57 D(G(z)):0.37\n",
            "Epoch [118/300] d_loss:1.0659 g_loss: 1.1965 D(x):0.59 D(G(z)):0.34\n",
            "Epoch [119/300] d_loss:1.2508 g_loss: 1.2884 D(x):0.59 D(G(z)):0.40\n",
            "Epoch [120/300] d_loss:1.4370 g_loss: 1.0326 D(x):0.63 D(G(z)):0.44\n",
            "Epoch [121/300] d_loss:1.2128 g_loss: 0.9455 D(x):0.63 D(G(z)):0.43\n",
            "Epoch [122/300] d_loss:1.4385 g_loss: 0.8213 D(x):0.54 D(G(z)):0.48\n",
            "Epoch [123/300] d_loss:1.2537 g_loss: 1.1387 D(x):0.61 D(G(z)):0.40\n",
            "Epoch [124/300] d_loss:1.3536 g_loss: 1.0646 D(x):0.52 D(G(z)):0.39\n",
            "Epoch [125/300] d_loss:1.1877 g_loss: 0.9729 D(x):0.58 D(G(z)):0.41\n",
            "Epoch [126/300] d_loss:1.2879 g_loss: 1.1338 D(x):0.54 D(G(z)):0.39\n",
            "Epoch [127/300] d_loss:1.1745 g_loss: 0.9962 D(x):0.59 D(G(z)):0.39\n",
            "Epoch [128/300] d_loss:1.0866 g_loss: 0.9208 D(x):0.62 D(G(z)):0.40\n",
            "Epoch [129/300] d_loss:1.1947 g_loss: 0.9229 D(x):0.59 D(G(z)):0.42\n",
            "Epoch [130/300] d_loss:1.1356 g_loss: 1.0434 D(x):0.58 D(G(z)):0.39\n",
            "Epoch [131/300] d_loss:1.1209 g_loss: 1.0066 D(x):0.60 D(G(z)):0.38\n",
            "Epoch [132/300] d_loss:1.0707 g_loss: 1.2865 D(x):0.65 D(G(z)):0.35\n",
            "Epoch [133/300] d_loss:1.1750 g_loss: 1.1159 D(x):0.59 D(G(z)):0.38\n",
            "Epoch [134/300] d_loss:1.2443 g_loss: 0.9433 D(x):0.58 D(G(z)):0.45\n",
            "Epoch [135/300] d_loss:1.2905 g_loss: 1.2083 D(x):0.56 D(G(z)):0.39\n",
            "Epoch [136/300] d_loss:1.3030 g_loss: 0.9030 D(x):0.55 D(G(z)):0.45\n",
            "Epoch [137/300] d_loss:1.2543 g_loss: 0.9405 D(x):0.53 D(G(z)):0.42\n",
            "Epoch [138/300] d_loss:1.3059 g_loss: 1.0056 D(x):0.56 D(G(z)):0.43\n",
            "Epoch [139/300] d_loss:1.3246 g_loss: 0.9258 D(x):0.60 D(G(z)):0.46\n",
            "Epoch [140/300] d_loss:1.3409 g_loss: 0.8720 D(x):0.55 D(G(z)):0.46\n",
            "Epoch [141/300] d_loss:1.2765 g_loss: 0.9577 D(x):0.59 D(G(z)):0.45\n",
            "Epoch [142/300] d_loss:1.2981 g_loss: 0.9356 D(x):0.56 D(G(z)):0.44\n",
            "Epoch [143/300] d_loss:1.2605 g_loss: 0.9229 D(x):0.54 D(G(z)):0.42\n",
            "Epoch [144/300] d_loss:1.2440 g_loss: 0.9272 D(x):0.59 D(G(z)):0.43\n",
            "Epoch [145/300] d_loss:1.1945 g_loss: 1.0002 D(x):0.67 D(G(z)):0.45\n",
            "Epoch [146/300] d_loss:1.3391 g_loss: 1.0845 D(x):0.54 D(G(z)):0.42\n",
            "Epoch [147/300] d_loss:1.1853 g_loss: 0.9751 D(x):0.57 D(G(z)):0.41\n",
            "Epoch [148/300] d_loss:1.2593 g_loss: 1.0077 D(x):0.53 D(G(z)):0.40\n",
            "Epoch [149/300] d_loss:1.1904 g_loss: 1.1792 D(x):0.60 D(G(z)):0.37\n",
            "Epoch [150/300] d_loss:1.2495 g_loss: 0.8814 D(x):0.62 D(G(z)):0.47\n",
            "Epoch [151/300] d_loss:1.2142 g_loss: 0.8862 D(x):0.55 D(G(z)):0.42\n",
            "Epoch [152/300] d_loss:1.2437 g_loss: 0.7267 D(x):0.64 D(G(z)):0.50\n",
            "Epoch [153/300] d_loss:1.2626 g_loss: 0.9919 D(x):0.59 D(G(z)):0.43\n",
            "Epoch [154/300] d_loss:1.3148 g_loss: 0.8752 D(x):0.53 D(G(z)):0.43\n",
            "Epoch [155/300] d_loss:1.0688 g_loss: 0.8908 D(x):0.63 D(G(z)):0.42\n",
            "Epoch [156/300] d_loss:1.2487 g_loss: 0.9330 D(x):0.54 D(G(z)):0.41\n",
            "Epoch [157/300] d_loss:1.2523 g_loss: 0.9391 D(x):0.56 D(G(z)):0.43\n",
            "Epoch [158/300] d_loss:1.2188 g_loss: 0.9451 D(x):0.58 D(G(z)):0.43\n",
            "Epoch [159/300] d_loss:1.2535 g_loss: 1.2595 D(x):0.58 D(G(z)):0.39\n",
            "Epoch [160/300] d_loss:1.2053 g_loss: 0.8198 D(x):0.65 D(G(z)):0.47\n",
            "Epoch [161/300] d_loss:1.2976 g_loss: 0.9891 D(x):0.55 D(G(z)):0.43\n",
            "Epoch [162/300] d_loss:1.2361 g_loss: 1.0162 D(x):0.58 D(G(z)):0.42\n",
            "Epoch [163/300] d_loss:1.2438 g_loss: 0.8259 D(x):0.56 D(G(z)):0.42\n",
            "Epoch [164/300] d_loss:1.2684 g_loss: 1.0285 D(x):0.56 D(G(z)):0.42\n",
            "Epoch [165/300] d_loss:1.2957 g_loss: 1.0687 D(x):0.56 D(G(z)):0.39\n",
            "Epoch [166/300] d_loss:1.2075 g_loss: 0.9542 D(x):0.60 D(G(z)):0.44\n",
            "Epoch [167/300] d_loss:1.2532 g_loss: 1.1010 D(x):0.67 D(G(z)):0.43\n",
            "Epoch [168/300] d_loss:1.2264 g_loss: 1.0249 D(x):0.56 D(G(z)):0.40\n",
            "Epoch [169/300] d_loss:1.3672 g_loss: 1.1724 D(x):0.59 D(G(z)):0.37\n",
            "Epoch [170/300] d_loss:1.1393 g_loss: 1.1144 D(x):0.62 D(G(z)):0.36\n",
            "Epoch [171/300] d_loss:1.1742 g_loss: 0.9736 D(x):0.61 D(G(z)):0.42\n",
            "Epoch [172/300] d_loss:1.3241 g_loss: 1.0179 D(x):0.59 D(G(z)):0.46\n",
            "Epoch [173/300] d_loss:1.2065 g_loss: 0.9705 D(x):0.58 D(G(z)):0.41\n",
            "Epoch [174/300] d_loss:1.2899 g_loss: 0.8375 D(x):0.58 D(G(z)):0.46\n",
            "Epoch [175/300] d_loss:1.2889 g_loss: 1.1337 D(x):0.57 D(G(z)):0.38\n",
            "Epoch [176/300] d_loss:1.1507 g_loss: 1.1304 D(x):0.57 D(G(z)):0.36\n",
            "Epoch [177/300] d_loss:1.2330 g_loss: 1.3906 D(x):0.56 D(G(z)):0.33\n",
            "Epoch [178/300] d_loss:1.3254 g_loss: 0.9689 D(x):0.51 D(G(z)):0.41\n",
            "Epoch [179/300] d_loss:1.2274 g_loss: 0.8934 D(x):0.56 D(G(z)):0.41\n",
            "Epoch [180/300] d_loss:1.2495 g_loss: 0.9470 D(x):0.54 D(G(z)):0.39\n",
            "Epoch [181/300] d_loss:1.2729 g_loss: 0.8361 D(x):0.60 D(G(z)):0.47\n",
            "Epoch [182/300] d_loss:1.1559 g_loss: 0.9256 D(x):0.63 D(G(z)):0.43\n",
            "Epoch [183/300] d_loss:1.1825 g_loss: 0.9660 D(x):0.62 D(G(z)):0.43\n",
            "Epoch [184/300] d_loss:1.1536 g_loss: 0.9187 D(x):0.59 D(G(z)):0.41\n",
            "Epoch [185/300] d_loss:1.2655 g_loss: 0.9506 D(x):0.61 D(G(z)):0.45\n",
            "Epoch [186/300] d_loss:1.2751 g_loss: 0.9414 D(x):0.56 D(G(z)):0.44\n",
            "Epoch [187/300] d_loss:1.1718 g_loss: 0.9965 D(x):0.60 D(G(z)):0.42\n",
            "Epoch [188/300] d_loss:1.3847 g_loss: 0.8849 D(x):0.55 D(G(z)):0.48\n",
            "Epoch [189/300] d_loss:1.2227 g_loss: 0.9979 D(x):0.56 D(G(z)):0.41\n",
            "Epoch [190/300] d_loss:1.4064 g_loss: 0.8531 D(x):0.51 D(G(z)):0.46\n",
            "Epoch [191/300] d_loss:1.3267 g_loss: 0.8738 D(x):0.55 D(G(z)):0.46\n",
            "Epoch [192/300] d_loss:1.1304 g_loss: 0.9546 D(x):0.60 D(G(z)):0.40\n",
            "Epoch [193/300] d_loss:1.3416 g_loss: 0.8507 D(x):0.57 D(G(z)):0.48\n",
            "Epoch [194/300] d_loss:1.1314 g_loss: 1.1268 D(x):0.62 D(G(z)):0.38\n",
            "Epoch [195/300] d_loss:1.3661 g_loss: 1.0767 D(x):0.55 D(G(z)):0.43\n",
            "Epoch [196/300] d_loss:1.1487 g_loss: 1.0736 D(x):0.61 D(G(z)):0.38\n",
            "Epoch [197/300] d_loss:1.2345 g_loss: 1.1702 D(x):0.54 D(G(z)):0.36\n",
            "Epoch [198/300] d_loss:1.2263 g_loss: 0.9596 D(x):0.58 D(G(z)):0.43\n",
            "Epoch [199/300] d_loss:1.0826 g_loss: 0.9120 D(x):0.64 D(G(z)):0.41\n",
            "Epoch [200/300] d_loss:1.2740 g_loss: 1.0040 D(x):0.55 D(G(z)):0.42\n",
            "Epoch [201/300] d_loss:1.3567 g_loss: 0.9222 D(x):0.51 D(G(z)):0.42\n",
            "Epoch [202/300] d_loss:1.0699 g_loss: 0.9954 D(x):0.61 D(G(z)):0.39\n",
            "Epoch [203/300] d_loss:1.0852 g_loss: 0.9968 D(x):0.65 D(G(z)):0.39\n",
            "Epoch [204/300] d_loss:1.2462 g_loss: 0.8994 D(x):0.63 D(G(z)):0.48\n",
            "Epoch [205/300] d_loss:1.3208 g_loss: 0.8538 D(x):0.54 D(G(z)):0.43\n",
            "Epoch [206/300] d_loss:1.1751 g_loss: 0.8777 D(x):0.60 D(G(z)):0.44\n",
            "Epoch [207/300] d_loss:1.2630 g_loss: 0.8252 D(x):0.57 D(G(z)):0.45\n",
            "Epoch [208/300] d_loss:1.2467 g_loss: 1.2189 D(x):0.55 D(G(z)):0.37\n",
            "Epoch [209/300] d_loss:1.3352 g_loss: 0.9177 D(x):0.55 D(G(z)):0.44\n",
            "Epoch [210/300] d_loss:1.1290 g_loss: 1.0209 D(x):0.63 D(G(z)):0.42\n",
            "Epoch [211/300] d_loss:1.3503 g_loss: 0.8714 D(x):0.54 D(G(z)):0.46\n",
            "Epoch [212/300] d_loss:1.3166 g_loss: 0.8133 D(x):0.58 D(G(z)):0.47\n",
            "Epoch [213/300] d_loss:1.3564 g_loss: 0.9317 D(x):0.57 D(G(z)):0.44\n",
            "Epoch [214/300] d_loss:1.0388 g_loss: 1.0564 D(x):0.65 D(G(z)):0.39\n",
            "Epoch [215/300] d_loss:1.1121 g_loss: 0.9902 D(x):0.59 D(G(z)):0.39\n",
            "Epoch [216/300] d_loss:1.1834 g_loss: 0.9899 D(x):0.57 D(G(z)):0.40\n",
            "Epoch [217/300] d_loss:1.1637 g_loss: 1.0063 D(x):0.61 D(G(z)):0.42\n",
            "Epoch [218/300] d_loss:1.1951 g_loss: 1.0735 D(x):0.59 D(G(z)):0.39\n",
            "Epoch [219/300] d_loss:1.2988 g_loss: 0.8432 D(x):0.53 D(G(z)):0.45\n",
            "Epoch [220/300] d_loss:1.2191 g_loss: 1.1315 D(x):0.57 D(G(z)):0.41\n",
            "Epoch [221/300] d_loss:1.2605 g_loss: 0.9903 D(x):0.54 D(G(z)):0.42\n",
            "Epoch [222/300] d_loss:1.3705 g_loss: 0.9663 D(x):0.49 D(G(z)):0.39\n",
            "Epoch [223/300] d_loss:1.2670 g_loss: 0.8232 D(x):0.58 D(G(z)):0.47\n",
            "Epoch [224/300] d_loss:1.2722 g_loss: 0.9147 D(x):0.54 D(G(z)):0.42\n",
            "Epoch [225/300] d_loss:1.2967 g_loss: 0.8446 D(x):0.54 D(G(z)):0.46\n",
            "Epoch [226/300] d_loss:1.1382 g_loss: 1.0337 D(x):0.59 D(G(z)):0.40\n",
            "Epoch [227/300] d_loss:1.1641 g_loss: 1.0268 D(x):0.62 D(G(z)):0.40\n",
            "Epoch [228/300] d_loss:1.2323 g_loss: 0.9092 D(x):0.56 D(G(z)):0.43\n",
            "Epoch [229/300] d_loss:1.3545 g_loss: 0.9974 D(x):0.55 D(G(z)):0.44\n",
            "Epoch [230/300] d_loss:1.1877 g_loss: 0.9784 D(x):0.57 D(G(z)):0.41\n",
            "Epoch [231/300] d_loss:1.3433 g_loss: 0.7562 D(x):0.56 D(G(z)):0.50\n",
            "Epoch [232/300] d_loss:1.3473 g_loss: 1.0068 D(x):0.51 D(G(z)):0.39\n",
            "Epoch [233/300] d_loss:1.3230 g_loss: 0.8718 D(x):0.54 D(G(z)):0.46\n",
            "Epoch [234/300] d_loss:1.1441 g_loss: 1.1543 D(x):0.61 D(G(z)):0.39\n",
            "Epoch [235/300] d_loss:1.2039 g_loss: 1.2353 D(x):0.60 D(G(z)):0.38\n",
            "Epoch [236/300] d_loss:1.3309 g_loss: 0.9229 D(x):0.58 D(G(z)):0.47\n",
            "Epoch [237/300] d_loss:1.0971 g_loss: 1.1060 D(x):0.63 D(G(z)):0.39\n",
            "Epoch [238/300] d_loss:1.2894 g_loss: 0.8927 D(x):0.59 D(G(z)):0.47\n",
            "Epoch [239/300] d_loss:1.2701 g_loss: 0.8714 D(x):0.56 D(G(z)):0.45\n",
            "Epoch [240/300] d_loss:1.1161 g_loss: 0.9688 D(x):0.61 D(G(z)):0.41\n",
            "Epoch [241/300] d_loss:1.2101 g_loss: 0.9443 D(x):0.59 D(G(z)):0.43\n",
            "Epoch [242/300] d_loss:1.1920 g_loss: 0.9639 D(x):0.57 D(G(z)):0.40\n",
            "Epoch [243/300] d_loss:1.1841 g_loss: 0.8806 D(x):0.62 D(G(z)):0.44\n",
            "Epoch [244/300] d_loss:1.4986 g_loss: 0.8259 D(x):0.60 D(G(z)):0.49\n",
            "Epoch [245/300] d_loss:1.1980 g_loss: 1.1328 D(x):0.58 D(G(z)):0.38\n",
            "Epoch [246/300] d_loss:1.1870 g_loss: 0.8504 D(x):0.58 D(G(z)):0.44\n",
            "Epoch [247/300] d_loss:1.3556 g_loss: 0.8942 D(x):0.55 D(G(z)):0.46\n",
            "Epoch [248/300] d_loss:1.1338 g_loss: 1.0321 D(x):0.60 D(G(z)):0.40\n",
            "Epoch [249/300] d_loss:1.2556 g_loss: 0.8706 D(x):0.53 D(G(z)):0.43\n",
            "Epoch [250/300] d_loss:1.1881 g_loss: 1.0169 D(x):0.56 D(G(z)):0.40\n",
            "Epoch [251/300] d_loss:1.2471 g_loss: 0.9342 D(x):0.56 D(G(z)):0.43\n",
            "Epoch [252/300] d_loss:1.3657 g_loss: 0.8049 D(x):0.51 D(G(z)):0.45\n",
            "Epoch [253/300] d_loss:1.3283 g_loss: 0.8357 D(x):0.53 D(G(z)):0.45\n",
            "Epoch [254/300] d_loss:1.1966 g_loss: 0.9398 D(x):0.62 D(G(z)):0.45\n",
            "Epoch [255/300] d_loss:1.2352 g_loss: 0.8963 D(x):0.56 D(G(z)):0.42\n",
            "Epoch [256/300] d_loss:1.1235 g_loss: 0.9560 D(x):0.63 D(G(z)):0.42\n",
            "Epoch [257/300] d_loss:1.2746 g_loss: 0.7718 D(x):0.59 D(G(z)):0.48\n",
            "Epoch [258/300] d_loss:1.2148 g_loss: 0.8694 D(x):0.58 D(G(z)):0.44\n",
            "Epoch [259/300] d_loss:1.2324 g_loss: 0.9370 D(x):0.59 D(G(z)):0.45\n",
            "Epoch [260/300] d_loss:1.3044 g_loss: 0.8306 D(x):0.55 D(G(z)):0.46\n",
            "Epoch [261/300] d_loss:1.2539 g_loss: 0.9321 D(x):0.60 D(G(z)):0.46\n",
            "Epoch [262/300] d_loss:1.2879 g_loss: 0.9243 D(x):0.57 D(G(z)):0.43\n",
            "Epoch [263/300] d_loss:1.2852 g_loss: 0.8502 D(x):0.60 D(G(z)):0.48\n",
            "Epoch [264/300] d_loss:1.2546 g_loss: 0.9265 D(x):0.55 D(G(z)):0.43\n",
            "Epoch [265/300] d_loss:1.2700 g_loss: 0.9204 D(x):0.53 D(G(z)):0.41\n",
            "Epoch [266/300] d_loss:1.3130 g_loss: 0.8906 D(x):0.52 D(G(z)):0.44\n",
            "Epoch [267/300] d_loss:1.2438 g_loss: 0.7775 D(x):0.61 D(G(z)):0.49\n",
            "Epoch [268/300] d_loss:1.2047 g_loss: 1.0577 D(x):0.57 D(G(z)):0.39\n",
            "Epoch [269/300] d_loss:1.2272 g_loss: 0.8474 D(x):0.58 D(G(z)):0.45\n",
            "Epoch [270/300] d_loss:1.3540 g_loss: 0.9470 D(x):0.52 D(G(z)):0.44\n",
            "Epoch [271/300] d_loss:1.1511 g_loss: 0.9716 D(x):0.60 D(G(z)):0.42\n",
            "Epoch [272/300] d_loss:1.2739 g_loss: 0.8535 D(x):0.58 D(G(z)):0.45\n",
            "Epoch [273/300] d_loss:1.4335 g_loss: 0.8181 D(x):0.51 D(G(z)):0.47\n",
            "Epoch [274/300] d_loss:1.1881 g_loss: 0.8743 D(x):0.59 D(G(z)):0.43\n",
            "Epoch [275/300] d_loss:1.1553 g_loss: 1.0999 D(x):0.59 D(G(z)):0.39\n",
            "Epoch [276/300] d_loss:1.1702 g_loss: 0.8970 D(x):0.57 D(G(z)):0.41\n",
            "Epoch [277/300] d_loss:1.2154 g_loss: 0.9478 D(x):0.59 D(G(z)):0.43\n",
            "Epoch [278/300] d_loss:1.2853 g_loss: 0.8678 D(x):0.57 D(G(z)):0.45\n",
            "Epoch [279/300] d_loss:1.1219 g_loss: 1.1218 D(x):0.60 D(G(z)):0.40\n",
            "Epoch [280/300] d_loss:1.3191 g_loss: 0.8490 D(x):0.58 D(G(z)):0.46\n",
            "Epoch [281/300] d_loss:1.1746 g_loss: 0.9539 D(x):0.62 D(G(z)):0.45\n",
            "Epoch [282/300] d_loss:1.2491 g_loss: 0.9846 D(x):0.55 D(G(z)):0.41\n",
            "Epoch [283/300] d_loss:1.4243 g_loss: 0.8037 D(x):0.56 D(G(z)):0.49\n",
            "Epoch [284/300] d_loss:1.3325 g_loss: 0.9666 D(x):0.57 D(G(z)):0.42\n",
            "Epoch [285/300] d_loss:1.3207 g_loss: 0.9128 D(x):0.50 D(G(z)):0.41\n",
            "Epoch [286/300] d_loss:1.3049 g_loss: 0.9820 D(x):0.52 D(G(z)):0.41\n",
            "Epoch [287/300] d_loss:1.1921 g_loss: 0.8946 D(x):0.60 D(G(z)):0.42\n",
            "Epoch [288/300] d_loss:1.5134 g_loss: 0.7909 D(x):0.49 D(G(z)):0.50\n",
            "Epoch [289/300] d_loss:1.3428 g_loss: 0.9353 D(x):0.53 D(G(z)):0.41\n",
            "Epoch [290/300] d_loss:1.1707 g_loss: 0.9787 D(x):0.60 D(G(z)):0.41\n",
            "Epoch [291/300] d_loss:1.3398 g_loss: 0.8595 D(x):0.56 D(G(z)):0.46\n",
            "Epoch [292/300] d_loss:1.0521 g_loss: 0.9958 D(x):0.62 D(G(z)):0.39\n",
            "Epoch [293/300] d_loss:1.1782 g_loss: 0.9180 D(x):0.59 D(G(z)):0.44\n",
            "Epoch [294/300] d_loss:1.2682 g_loss: 0.9204 D(x):0.57 D(G(z)):0.45\n",
            "Epoch [295/300] d_loss:1.2436 g_loss: 1.0269 D(x):0.54 D(G(z)):0.40\n",
            "Epoch [296/300] d_loss:1.4582 g_loss: 0.7910 D(x):0.53 D(G(z)):0.50\n",
            "Epoch [297/300] d_loss:1.2902 g_loss: 0.8701 D(x):0.58 D(G(z)):0.43\n",
            "Epoch [298/300] d_loss:1.2966 g_loss: 0.9104 D(x):0.55 D(G(z)):0.42\n",
            "Epoch [299/300] d_loss:1.2225 g_loss: 0.8146 D(x):0.60 D(G(z)):0.47\n"
          ],
          "name": "stdout"
        }
      ]
    },
    {
      "cell_type": "code",
      "metadata": {
        "id": "S8UWOGxD7jFS",
        "colab_type": "code",
        "outputId": "011612e2-c2b7-4a2a-d5df-7d5697046436",
        "colab": {
          "base_uri": "https://localhost:8080/",
          "height": 283
        }
      },
      "source": [
        "# 만들고 싶은 아이템 생성하고 시각화하기\n",
        "\n",
        "item_class = 7 # 아이템 번호\n",
        "z = torch.randn(1, 100).to(device) # 배치 크기 1\n",
        "g_label = torch.full((1,), item_class, dtype=torch.long).to(device)\n",
        "sample_images = G(z, g_label)\n",
        "\n",
        "sample_images_img = np.reshape(sample_images.data.cpu().numpy()[0],(28, 28))\n",
        "plt.imshow(sample_images_img, cmap = 'gray')\n",
        "plt.show()\n",
        "print(label_list[item_class])"
      ],
      "execution_count": 0,
      "outputs": [
        {
          "output_type": "display_data",
          "data": {
            "image/png": "[encoded data removed]",
            "text/plain": [
              "<Figure size 432x288 with 1 Axes>"
            ]
          },
          "metadata": {
            "tags": []
          }
        },
        {
          "output_type": "stream",
          "text": [
            "Sneaker\n"
          ],
          "name": "stdout"
        }
      ]
    },
    {
      "cell_type": "code",
      "metadata": {
        "id": "noDI51X8yhGh",
        "colab_type": "code",
        "outputId": "1ae16130-4c4a-41ff-c508-0686bb277e43",
        "colab": {
          "base_uri": "https://localhost:8080/",
          "height": 127
        }
      },
      "source": [
        "# 본인의 구글 드라이브 → 지금 실행중인 코드\n",
        "\n",
        "# google.colab.drive : 구글 드라이브에서 파일을 가져오기 위한 코드를 담고 있다.\n",
        "from google.colab import drive\n",
        "\n",
        "# 본인의 구글 드라이브를 '/gdrive' 라는 경로로 하여 쓸 수 있다.\n",
        "drive.mount('/gdrive', force_remount=True)"
      ],
      "execution_count": 0,
      "outputs": [
        {
          "output_type": "stream",
          "text": [
            "Go to this URL in a browser: https://accounts.google.com/o/oauth2/auth?client_id=947318989803-6bn6qk8qdgf4n4g3pfee6491hc0brc4i.apps.googleusercontent.com&redirect_uri=urn%3aietf%3awg%3aoauth%3a2.0%3aoob&response_type=code&scope=email%20https%3a%2f%2fwww.googleapis.com%2fauth%2fdocs.test%20https%3a%2f%2fwww.googleapis.com%2fauth%2fdrive%20https%3a%2f%2fwww.googleapis.com%2fauth%2fdrive.photos.readonly%20https%3a%2f%2fwww.googleapis.com%2fauth%2fpeopleapi.readonly\n",
            "\n",
            "Enter your authorization code:\n",
            "··········\n",
            "Mounted at /gdrive\n"
          ],
          "name": "stdout"
        }
      ]
    },
    {
      "cell_type": "code",
      "metadata": {
        "id": "cTGmN9R1yhi0",
        "colab_type": "code",
        "outputId": "f06b4fbc-a191-45fa-ff9a-ac1d33e03571",
        "colab": {
          "base_uri": "https://localhost:8080/",
          "height": 35
        }
      },
      "source": [
        "# D, G 모델 따로 저장\n",
        "torch.save(D.state_dict(), '/gdrive/My Drive/cGAN_FashionMNIST_D.pt')\n",
        "torch.save(G.state_dict(), '/gdrive/My Drive/cGAN_FashionMNIST_G.pt')\n",
        "\n",
        "# 다시 불러오기 위해 모델 제거\n",
        "del D, G\n",
        "\n",
        "# 모델을 불러오기 위한 객체화\n",
        "D = Discriminator().to(device)\n",
        "G = Generator().to(device)\n",
        "\n",
        "# 모델 파라미터 불러오기\n",
        "D.load_state_dict(torch.load('/gdrive/My Drive/cGAN_FashionMNIST_D.pt'))\n",
        "G.load_state_dict(torch.load('/gdrive/My Drive/cGAN_FashionMNIST_G.pt'))"
      ],
      "execution_count": 0,
      "outputs": [
        {
          "output_type": "execute_result",
          "data": {
            "text/plain": [
              "<All keys matched successfully>"
            ]
          },
          "metadata": {
            "tags": []
          },
          "execution_count": 12
        }
      ]
    }
  ]
}